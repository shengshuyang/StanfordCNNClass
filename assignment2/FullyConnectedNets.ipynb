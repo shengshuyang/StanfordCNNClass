{
 "cells": [
  {
   "cell_type": "markdown",
   "metadata": {},
   "source": [
    "# Fully-Connected Neural Nets\n",
    "In the previous homework you implemented a fully-connected two-layer neural network on CIFAR-10. The implementation was simple but not very modular since the loss and gradient were computed in a single monolithic function. This is manageable for a simple two-layer network, but would become impractical as we move to bigger models. Ideally we want to build networks using a more modular design so that we can implement different layer types in isolation and then snap them together into models with different architectures.\n",
    "\n",
    "In this exercise we will implement fully-connected networks using a more modular approach. For each layer we will implement a `forward` and a `backward` function. The `forward` function will receive inputs, weights, and other parameters and will return both an output and a `cache` object storing data needed for the backward pass, like this:\n",
    "\n",
    "```python\n",
    "def layer_forward(x, w):\n",
    "  \"\"\" Receive inputs x and weights w \"\"\"\n",
    "  # Do some computations ...\n",
    "  z = # ... some intermediate value\n",
    "  # Do some more computations ...\n",
    "  out = # the output\n",
    "   \n",
    "  cache = (x, w, z, out) # Values we need to compute gradients\n",
    "   \n",
    "  return out, cache\n",
    "```\n",
    "\n",
    "The backward pass will receive upstream derivatives and the `cache` object, and will return gradients with respect to the inputs and weights, like this:\n",
    "\n",
    "```python\n",
    "def layer_backward(dout, cache):\n",
    "  \"\"\"\n",
    "  Receive derivative of loss with respect to outputs and cache,\n",
    "  and compute derivative with respect to inputs.\n",
    "  \"\"\"\n",
    "  # Unpack cache values\n",
    "  x, w, z, out = cache\n",
    "  \n",
    "  # Use values in cache to compute derivatives\n",
    "  dx = # Derivative of loss with respect to x\n",
    "  dw = # Derivative of loss with respect to w\n",
    "  \n",
    "  return dx, dw\n",
    "```\n",
    "\n",
    "After implementing a bunch of layers this way, we will be able to easily combine them to build classifiers with different architectures.\n",
    "\n",
    "In addition to implementing fully-connected networks of arbitrary depth, we will also explore different update rules for optimization, and introduce Dropout as a regularizer and Batch Normalization as a tool to more efficiently optimize deep networks.\n",
    "  "
   ]
  },
  {
   "cell_type": "code",
   "execution_count": 2,
   "metadata": {
    "collapsed": false
   },
   "outputs": [
    {
     "name": "stdout",
     "output_type": "stream",
     "text": [
      "The autoreload extension is already loaded. To reload it, use:\n",
      "  %reload_ext autoreload\n"
     ]
    }
   ],
   "source": [
    "# As usual, a bit of setup\n",
    "\n",
    "import time\n",
    "import numpy as np\n",
    "import matplotlib.pyplot as plt\n",
    "from cs231n.classifiers.fc_net import *\n",
    "from cs231n.data_utils import get_CIFAR10_data\n",
    "from cs231n.gradient_check import eval_numerical_gradient, eval_numerical_gradient_array\n",
    "from cs231n.solver import Solver\n",
    "\n",
    "%matplotlib inline\n",
    "plt.rcParams['figure.figsize'] = (10.0, 8.0) # set default size of plots\n",
    "plt.rcParams['image.interpolation'] = 'nearest'\n",
    "plt.rcParams['image.cmap'] = 'gray'\n",
    "\n",
    "# for auto-reloading external modules\n",
    "# see http://stackoverflow.com/questions/1907993/autoreload-of-modules-in-ipython\n",
    "%load_ext autoreload\n",
    "%autoreload 2\n",
    "\n",
    "def rel_error(x, y):\n",
    "  \"\"\" returns relative error \"\"\"\n",
    "  return np.max(np.abs(x - y) / (np.maximum(1e-8, np.abs(x) + np.abs(y))))"
   ]
  },
  {
   "cell_type": "code",
   "execution_count": 3,
   "metadata": {
    "collapsed": false
   },
   "outputs": [
    {
     "name": "stdout",
     "output_type": "stream",
     "text": [
      "X_val:  (1000L, 3L, 32L, 32L)\n",
      "X_train:  (49000L, 3L, 32L, 32L)\n",
      "X_test:  (1000L, 3L, 32L, 32L)\n",
      "y_val:  (1000L,)\n",
      "y_train:  (49000L,)\n",
      "y_test:  (1000L,)\n"
     ]
    }
   ],
   "source": [
    "# Load the (preprocessed) CIFAR10 data.\n",
    "\n",
    "data = get_CIFAR10_data()\n",
    "for k, v in data.iteritems():\n",
    "  print '%s: ' % k, v.shape"
   ]
  },
  {
   "cell_type": "code",
   "execution_count": 4,
   "metadata": {
    "collapsed": false
   },
   "outputs": [
    {
     "name": "stdout",
     "output_type": "stream",
     "text": [
      "(1000L, 3L, 32L, 32L)\n"
     ]
    },
    {
     "data": {
      "image/png": "[encoded data removed]",
      "text/plain": [
       "<matplotlib.figure.Figure at 0xabc79b0>"
      ]
     },
     "metadata": {},
     "output_type": "display_data"
    }
   ],
   "source": [
    "X_val = data['X_val']\n",
    "print X_val.shape\n",
    "plt.imshow(X_val[50,1,:,:])\n",
    "plt.show()"
   ]
  },
  {
   "cell_type": "markdown",
   "metadata": {},
   "source": [
    "# Affine layer: foward\n",
    "Open the file `cs231n/layers.py` and implement the `affine_forward` function.\n",
    "\n",
    "Once you are done you can test your implementaion by running the following:"
   ]
  },
  {
   "cell_type": "code",
   "execution_count": 5,
   "metadata": {
    "collapsed": false
   },
   "outputs": [
    {
     "name": "stdout",
     "output_type": "stream",
     "text": [
      "Testing affine_forward function:\n",
      "difference:  9.76984946819e-10\n"
     ]
    }
   ],
   "source": [
    "# Test the affine_forward function\n",
    "\n",
    "num_inputs = 2\n",
    "input_shape = (4, 5, 6)\n",
    "output_dim = 3\n",
    "\n",
    "input_size = num_inputs * np.prod(input_shape)\n",
    "weight_size = output_dim * np.prod(input_shape)\n",
    "\n",
    "x = np.linspace(-0.1, 0.5, num=input_size).reshape(num_inputs, *input_shape)\n",
    "w = np.linspace(-0.2, 0.3, num=weight_size).reshape(np.prod(input_shape), output_dim)\n",
    "b = np.linspace(-0.3, 0.1, num=output_dim)\n",
    "\n",
    "out, _ = affine_forward(x, w, b)\n",
    "correct_out = np.array([[ 1.49834967,  1.70660132,  1.91485297],\n",
    "                        [ 3.25553199,  3.5141327,   3.77273342]])\n",
    "\n",
    "# Compare your output with ours. The error should be around 1e-9.\n",
    "print 'Testing affine_forward function:'\n",
    "print 'difference: ', rel_error(out, correct_out)"
   ]
  },
  {
   "cell_type": "markdown",
   "metadata": {},
   "source": [
    "# Affine layer: backward\n",
    "Now implement the `affine_backward` function and test your implementation using numeric gradient checking."
   ]
  },
  {
   "cell_type": "code",
   "execution_count": 6,
   "metadata": {
    "collapsed": false
   },
   "outputs": [
    {
     "name": "stdout",
     "output_type": "stream",
     "text": [
      "Testing affine_backward function:\n",
      "dx error:  5.62993774941e-10\n",
      "dw error:  3.18285905695e-11\n",
      "db error:  2.11620842094e-11\n"
     ]
    }
   ],
   "source": [
    "# Test the affine_backward function\n",
    "\n",
    "x = np.random.randn(10, 2, 3)\n",
    "w = np.random.randn(6, 5)\n",
    "b = np.random.randn(5)\n",
    "dout = np.random.randn(10, 5)\n",
    "\n",
    "dx_num = eval_numerical_gradient_array(lambda x: affine_forward(x, w, b)[0], x, dout)\n",
    "dw_num = eval_numerical_gradient_array(lambda w: affine_forward(x, w, b)[0], w, dout)\n",
    "db_num = eval_numerical_gradient_array(lambda b: affine_forward(x, w, b)[0], b, dout)\n",
    "\n",
    "_, cache = affine_forward(x, w, b)\n",
    "\n",
    "len(cache[0])\n",
    "\n",
    "dx, dw, db = affine_backward(dout, cache)\n",
    "\n",
    "# The error should be around 1e-10\n",
    "print 'Testing affine_backward function:'\n",
    "print 'dx error: ', rel_error(dx_num, dx)\n",
    "print 'dw error: ', rel_error(dw_num, dw)\n",
    "print 'db error: ', rel_error(db_num, db)"
   ]
  },
  {
   "cell_type": "markdown",
   "metadata": {},
   "source": [
    "# ReLU layer: forward\n",
    "Implement the forward pass for the ReLU activation function in the `relu_forward` function and test your implementation using the following:"
   ]
  },
  {
   "cell_type": "code",
   "execution_count": 7,
   "metadata": {
    "collapsed": false
   },
   "outputs": [
    {
     "name": "stdout",
     "output_type": "stream",
     "text": [
      "Testing relu_forward function:\n",
      "difference:  4.99999979802e-08\n"
     ]
    }
   ],
   "source": [
    "# Test the relu_forward function\n",
    "\n",
    "x = np.linspace(-0.5, 0.5, num=12).reshape(3, 4)\n",
    "\n",
    "out, _ = relu_forward(x)\n",
    "correct_out = np.array([[ 0.,          0.,          0.,          0.,        ],\n",
    "                        [ 0.,          0.,          0.04545455,  0.13636364,],\n",
    "                        [ 0.22727273,  0.31818182,  0.40909091,  0.5,       ]])\n",
    "\n",
    "# Compare your output with ours. The error should be around 1e-8\n",
    "print 'Testing relu_forward function:'\n",
    "print 'difference: ', rel_error(out, correct_out)"
   ]
  },
  {
   "cell_type": "markdown",
   "metadata": {},
   "source": [
    "# ReLU layer: backward\n",
    "Now implement the backward pass for the ReLU activation function in the `relu_backward` function and test your implementation using numeric gradient checking:"
   ]
  },
  {
   "cell_type": "code",
   "execution_count": 8,
   "metadata": {
    "collapsed": false
   },
   "outputs": [
    {
     "name": "stdout",
     "output_type": "stream",
     "text": [
      "Testing relu_backward function:\n",
      "dx error:  3.27557215894e-12\n"
     ]
    }
   ],
   "source": [
    "x = np.random.randn(10, 10)\n",
    "dout = np.random.randn(*x.shape)\n",
    "\n",
    "dx_num = eval_numerical_gradient_array(lambda x: relu_forward(x)[0], x, dout)\n",
    "\n",
    "_, cache = relu_forward(x)\n",
    "dx = relu_backward(dout, cache)\n",
    "\n",
    "# The error should be around 1e-12\n",
    "print 'Testing relu_backward function:'\n",
    "print 'dx error: ', rel_error(dx_num, dx)"
   ]
  },
  {
   "cell_type": "markdown",
   "metadata": {},
   "source": [
    "# \"Sandwich\" layers\n",
    "There are some common patterns of layers that are frequently used in neural nets. For example, affine layers are frequently followed by a ReLU nonlinearity. To make these common patterns easy, we define several convenience layers in the file `cs231n/layer_utils.py`.\n",
    "\n",
    "For now take a look at the `affine_relu_forward` and `affine_relu_backward` functions, and run the following to numerically gradient check the backward pass:"
   ]
  },
  {
   "cell_type": "code",
   "execution_count": 9,
   "metadata": {
    "collapsed": false
   },
   "outputs": [
    {
     "name": "stdout",
     "output_type": "stream",
     "text": [
      "Testing affine_relu_forward:\n",
      "dx error:  8.84318043407e-11\n",
      "dw error:  5.21963604882e-11\n",
      "db error:  6.13949692517e-12\n"
     ]
    }
   ],
   "source": [
    "from cs231n.layer_utils import affine_relu_forward, affine_relu_backward\n",
    "\n",
    "x = np.random.randn(2, 3, 4)\n",
    "w = np.random.randn(12, 10)\n",
    "b = np.random.randn(10)\n",
    "dout = np.random.randn(2, 10)\n",
    "\n",
    "out, cache = affine_relu_forward(x, w, b)\n",
    "dx, dw, db = affine_relu_backward(dout, cache)\n",
    "\n",
    "dx_num = eval_numerical_gradient_array(lambda x: affine_relu_forward(x, w, b)[0], x, dout)\n",
    "dw_num = eval_numerical_gradient_array(lambda w: affine_relu_forward(x, w, b)[0], w, dout)\n",
    "db_num = eval_numerical_gradient_array(lambda b: affine_relu_forward(x, w, b)[0], b, dout)\n",
    "\n",
    "print 'Testing affine_relu_forward:'\n",
    "print 'dx error: ', rel_error(dx_num, dx)\n",
    "print 'dw error: ', rel_error(dw_num, dw)\n",
    "print 'db error: ', rel_error(db_num, db)"
   ]
  },
  {
   "cell_type": "markdown",
   "metadata": {},
   "source": [
    "# Loss layers: Softmax and SVM\n",
    "You implemented these loss functions in the last assignment, so we'll give them to you for free here. You should still make sure you understand how they work by looking at the implementations in `cs231n/layers.py`.\n",
    "\n",
    "You can make sure that the implementations are correct by running the following:"
   ]
  },
  {
   "cell_type": "code",
   "execution_count": 10,
   "metadata": {
    "collapsed": false
   },
   "outputs": [
    {
     "name": "stdout",
     "output_type": "stream",
     "text": [
      "Testing svm_loss:\n",
      "loss:  8.99771612599\n",
      "dx error:  1.40215660067e-09\n",
      "\n",
      "Testing softmax_loss:\n",
      "loss:  2.30235709537\n",
      "dx error:  7.97380290375e-09\n"
     ]
    }
   ],
   "source": [
    "num_classes, num_inputs = 10, 50\n",
    "x = 0.001 * np.random.randn(num_inputs, num_classes)\n",
    "y = np.random.randint(num_classes, size=num_inputs)\n",
    "\n",
    "dx_num = eval_numerical_gradient(lambda x: svm_loss(x, y)[0], x, verbose=False)\n",
    "loss, dx = svm_loss(x, y)\n",
    "\n",
    "# Test svm_loss function. Loss should be around 9 and dx error should be 1e-9\n",
    "print 'Testing svm_loss:'\n",
    "print 'loss: ', loss\n",
    "print 'dx error: ', rel_error(dx_num, dx)\n",
    "\n",
    "dx_num = eval_numerical_gradient(lambda x: softmax_loss(x, y)[0], x, verbose=False)\n",
    "loss, dx = softmax_loss(x, y)\n",
    "\n",
    "# Test softmax_loss function. Loss should be 2.3 and dx error should be 1e-8\n",
    "print '\\nTesting softmax_loss:'\n",
    "print 'loss: ', loss\n",
    "print 'dx error: ', rel_error(dx_num, dx)"
   ]
  },
  {
   "cell_type": "markdown",
   "metadata": {},
   "source": [
    "# Two-layer network\n",
    "In the previous assignment you implemented a two-layer neural network in a single monolithic class. Now that you have implemented modular versions of the necessary layers, you will reimplement the two layer network using these modular implementations.\n",
    "\n",
    "Open the file `cs231n/classifiers/fc_net.py` and complete the implementation of the `TwoLayerNet` class. This class will serve as a model for the other networks you will implement in this assignment, so read through it to make sure you understand the API. You can run the cell below to test your implementation."
   ]
  },
  {
   "cell_type": "code",
   "execution_count": 11,
   "metadata": {
    "collapsed": false
   },
   "outputs": [
    {
     "name": "stdout",
     "output_type": "stream",
     "text": [
      "Testing initialization ... \n",
      "Testing test-time forward pass ... \n",
      "Testing training loss (no regularization)\n",
      "Running numeric gradient check with reg =  0.0\n",
      "W1 relative error: 1.83e-08\n",
      "W2 relative error: 3.48e-10\n",
      "b1 relative error: 6.55e-09\n",
      "b2 relative error: 4.33e-10\n",
      "Running numeric gradient check with reg =  0.5\n",
      "W1 relative error: 3.88e-08\n",
      "W2 relative error: 9.57e-09\n",
      "b1 relative error: 8.37e-09\n",
      "b2 relative error: 7.76e-10\n",
      "Running numeric gradient check with reg =  0.7\n",
      "W1 relative error: 2.53e-07\n",
      "W2 relative error: 2.85e-08\n",
      "b1 relative error: 1.35e-08\n",
      "b2 relative error: 9.09e-10\n"
     ]
    }
   ],
   "source": [
    "N, D, H, C = 3, 5, 50, 7\n",
    "X = np.random.randn(N, D)\n",
    "y = np.random.randint(C, size=N)\n",
    "\n",
    "std = 1e-2\n",
    "model = TwoLayerNet(input_dim=D, hidden_dim=H, num_classes=C, weight_scale=std)\n",
    "\n",
    "print 'Testing initialization ... '\n",
    "W1_std = abs(model.params['W1'].std() - std)\n",
    "b1 = model.params['b1']\n",
    "W2_std = abs(model.params['W2'].std() - std)\n",
    "b2 = model.params['b2']\n",
    "assert W1_std < std / 10, 'First layer weights do not seem right'\n",
    "assert np.all(b1 == 0), 'First layer biases do not seem right'\n",
    "assert W2_std < std / 10, 'Second layer weights do not seem right'\n",
    "assert np.all(b2 == 0), 'Second layer biases do not seem right'\n",
    "\n",
    "print 'Testing test-time forward pass ... '\n",
    "model.params['W1'] = np.linspace(-0.7, 0.3, num=D*H).reshape(D, H)\n",
    "model.params['b1'] = np.linspace(-0.1, 0.9, num=H)\n",
    "model.params['W2'] = np.linspace(-0.3, 0.4, num=H*C).reshape(H, C)\n",
    "model.params['b2'] = np.linspace(-0.9, 0.1, num=C)\n",
    "X = np.linspace(-5.5, 4.5, num=N*D).reshape(D, N).T\n",
    "scores = model.loss(X)\n",
    "correct_scores = np.asarray(\n",
    "  [[11.53165108,  12.2917344,   13.05181771,  13.81190102,  14.57198434, 15.33206765,  16.09215096],\n",
    "   [12.05769098,  12.74614105,  13.43459113,  14.1230412,   14.81149128, 15.49994135,  16.18839143],\n",
    "   [12.58373087,  13.20054771,  13.81736455,  14.43418138,  15.05099822, 15.66781506,  16.2846319 ]])\n",
    "scores_diff = np.abs(scores - correct_scores).sum()\n",
    "assert scores_diff < 1e-6, 'Problem with test-time forward pass'\n",
    "\n",
    "print 'Testing training loss (no regularization)'\n",
    "y = np.asarray([0, 5, 1])\n",
    "loss, grads = model.loss(X, y)\n",
    "correct_loss = 3.4702243556\n",
    "assert abs(loss - correct_loss) < 1e-10, 'Problem with training-time loss'\n",
    "\n",
    "model.reg = 1.0\n",
    "loss, grads = model.loss(X, y)\n",
    "correct_loss = 26.5948426952\n",
    "assert abs(loss - correct_loss) < 1e-10, 'Problem with regularization loss'\n",
    "\n",
    "for reg in [0.0, 0.5, 0.7]:\n",
    "  print 'Running numeric gradient check with reg = ', reg\n",
    "  model.reg = reg\n",
    "  loss, grads = model.loss(X, y)\n",
    "\n",
    "  for name in sorted(grads):\n",
    "    f = lambda _: model.loss(X, y)[0]\n",
    "    grad_num = eval_numerical_gradient(f, model.params[name], verbose=False)\n",
    "    print '%s relative error: %.2e' % (name, rel_error(grad_num, grads[name]))"
   ]
  },
  {
   "cell_type": "markdown",
   "metadata": {},
   "source": [
    "# Solver\n",
    "In the previous assignment, the logic for training models was coupled to the models themselves. Following a more modular design, for this assignment we have split the logic for training models into a separate class.\n",
    "\n",
    "Open the file `cs231n/solver.py` and read through it to familiarize yourself with the API. After doing so, use a `Solver` instance to train a `TwoLayerNet` that achieves at least `50%` accuracy on the validation set."
   ]
  },
  {
   "cell_type": "code",
   "execution_count": 29,
   "metadata": {
    "collapsed": false
   },
   "outputs": [
    {
     "name": "stdout",
     "output_type": "stream",
     "text": [
      "(Iteration 1 / 4900) loss: 5.410131\n",
      "(Epoch 0 / 10) train acc: 0.111000; val_acc: 0.112000\n",
      "(Iteration 11 / 4900) loss: 4.256100\n",
      "(Iteration 21 / 4900) loss: 4.088518\n",
      "(Iteration 31 / 4900) loss: 3.676191\n",
      "(Iteration 41 / 4900) loss: 3.831454\n",
      "(Iteration 51 / 4900) loss: 3.502179\n",
      "(Iteration 61 / 4900) loss: 3.525647\n",
      "(Iteration 71 / 4900) loss: 3.265429\n",
      "(Iteration 81 / 4900) loss: 3.309508\n",
      "(Iteration 91 / 4900) loss: 3.489690\n",
      "(Iteration 101 / 4900) loss: 3.247690\n",
      "(Iteration 111 / 4900) loss: 3.454426\n",
      "(Iteration 121 / 4900) loss: 3.348723\n",
      "(Iteration 131 / 4900) loss: 3.345484\n",
      "(Iteration 141 / 4900) loss: 3.266324\n",
      "(Iteration 151 / 4900) loss: 3.164197\n",
      "(Iteration 161 / 4900) loss: 3.324090\n",
      "(Iteration 171 / 4900) loss: 3.324605\n",
      "(Iteration 181 / 4900) loss: 3.310062\n",
      "(Iteration 191 / 4900) loss: 3.118387\n",
      "(Iteration 201 / 4900) loss: 3.139951\n",
      "(Iteration 211 / 4900) loss: 3.227732\n",
      "(Iteration 221 / 4900) loss: 3.166047\n",
      "(Iteration 231 / 4900) loss: 2.978856\n",
      "(Iteration 241 / 4900) loss: 3.164221\n",
      "(Iteration 251 / 4900) loss: 3.137180\n",
      "(Iteration 261 / 4900) loss: 2.992039\n",
      "(Iteration 271 / 4900) loss: 3.177601\n",
      "(Iteration 281 / 4900) loss: 2.867799\n",
      "(Iteration 291 / 4900) loss: 3.170203\n",
      "(Iteration 301 / 4900) loss: 3.175377\n",
      "(Iteration 311 / 4900) loss: 3.055373\n",
      "(Iteration 321 / 4900) loss: 3.041127\n",
      "(Iteration 331 / 4900) loss: 3.137651\n",
      "(Iteration 341 / 4900) loss: 3.106796\n",
      "(Iteration 351 / 4900) loss: 3.024642\n",
      "(Iteration 361 / 4900) loss: 3.187237\n",
      "(Iteration 371 / 4900) loss: 2.931827\n",
      "(Iteration 381 / 4900) loss: 3.318362\n",
      "(Iteration 391 / 4900) loss: 2.904621\n",
      "(Iteration 401 / 4900) loss: 3.241581\n",
      "(Iteration 411 / 4900) loss: 3.213278\n",
      "(Iteration 421 / 4900) loss: 2.896632\n",
      "(Iteration 431 / 4900) loss: 3.138450\n",
      "(Iteration 441 / 4900) loss: 3.007529\n",
      "(Iteration 451 / 4900) loss: 3.163058\n",
      "(Iteration 461 / 4900) loss: 3.113249\n",
      "(Iteration 471 / 4900) loss: 3.032471\n",
      "(Iteration 481 / 4900) loss: 3.097843\n",
      "(Epoch 1 / 10) train acc: 0.411000; val_acc: 0.426000\n",
      "(Iteration 491 / 4900) loss: 3.066026\n",
      "(Iteration 501 / 4900) loss: 3.035983\n",
      "(Iteration 511 / 4900) loss: 3.291772\n",
      "(Iteration 521 / 4900) loss: 3.156266\n",
      "(Iteration 531 / 4900) loss: 2.977719\n",
      "(Iteration 541 / 4900) loss: 3.143421\n",
      "(Iteration 551 / 4900) loss: 2.830372\n",
      "(Iteration 561 / 4900) loss: 3.248797\n",
      "(Iteration 571 / 4900) loss: 2.940099\n",
      "(Iteration 581 / 4900) loss: 2.792105\n",
      "(Iteration 591 / 4900) loss: 2.888936\n",
      "(Iteration 601 / 4900) loss: 2.962139\n",
      "(Iteration 611 / 4900) loss: 3.049754\n",
      "(Iteration 621 / 4900) loss: 2.767169\n",
      "(Iteration 631 / 4900) loss: 3.173797\n",
      "(Iteration 641 / 4900) loss: 2.888716\n",
      "(Iteration 651 / 4900) loss: 2.959954\n",
      "(Iteration 661 / 4900) loss: 3.014948\n",
      "(Iteration 671 / 4900) loss: 2.872638\n",
      "(Iteration 681 / 4900) loss: 3.174188\n",
      "(Iteration 691 / 4900) loss: 2.947702\n",
      "(Iteration 701 / 4900) loss: 2.903836\n",
      "(Iteration 711 / 4900) loss: 3.055305\n",
      "(Iteration 721 / 4900) loss: 2.940692\n",
      "(Iteration 731 / 4900) loss: 3.035652\n",
      "(Iteration 741 / 4900) loss: 3.207951\n",
      "(Iteration 751 / 4900) loss: 3.103034\n",
      "(Iteration 761 / 4900) loss: 2.657089\n",
      "(Iteration 771 / 4900) loss: 2.932225\n",
      "(Iteration 781 / 4900) loss: 2.740881\n",
      "(Iteration 791 / 4900) loss: 2.820491\n",
      "(Iteration 801 / 4900) loss: 2.727063\n",
      "(Iteration 811 / 4900) loss: 2.896757\n",
      "(Iteration 821 / 4900) loss: 2.772544\n",
      "(Iteration 831 / 4900) loss: 2.882190\n",
      "(Iteration 841 / 4900) loss: 2.750943\n",
      "(Iteration 851 / 4900) loss: 2.817189\n",
      "(Iteration 861 / 4900) loss: 2.977219\n",
      "(Iteration 871 / 4900) loss: 2.850979\n",
      "(Iteration 881 / 4900) loss: 2.763900\n",
      "(Iteration 891 / 4900) loss: 2.794539\n",
      "(Iteration 901 / 4900) loss: 2.975873\n",
      "(Iteration 911 / 4900) loss: 2.764352\n",
      "(Iteration 921 / 4900) loss: 2.930713\n",
      "(Iteration 931 / 4900) loss: 2.835349\n",
      "(Iteration 941 / 4900) loss: 2.772982\n",
      "(Iteration 951 / 4900) loss: 2.909059\n",
      "(Iteration 961 / 4900) loss: 2.906177\n",
      "(Iteration 971 / 4900) loss: 2.766664\n",
      "(Epoch 2 / 10) train acc: 0.465000; val_acc: 0.457000\n",
      "(Iteration 981 / 4900) loss: 2.663344\n",
      "(Iteration 991 / 4900) loss: 2.611263\n",
      "(Iteration 1001 / 4900) loss: 2.933014\n",
      "(Iteration 1011 / 4900) loss: 2.860780\n",
      "(Iteration 1021 / 4900) loss: 2.726534\n",
      "(Iteration 1031 / 4900) loss: 2.798083\n",
      "(Iteration 1041 / 4900) loss: 2.830685\n",
      "(Iteration 1051 / 4900) loss: 2.798794\n",
      "(Iteration 1061 / 4900) loss: 2.686409\n",
      "(Iteration 1071 / 4900) loss: 2.798250\n",
      "(Iteration 1081 / 4900) loss: 2.827950\n",
      "(Iteration 1091 / 4900) loss: 2.661198\n",
      "(Iteration 1101 / 4900) loss: 2.762236\n",
      "(Iteration 1111 / 4900) loss: 2.923540\n",
      "(Iteration 1121 / 4900) loss: 2.650797\n",
      "(Iteration 1131 / 4900) loss: 2.669627\n",
      "(Iteration 1141 / 4900) loss: 2.802089\n",
      "(Iteration 1151 / 4900) loss: 2.708007\n",
      "(Iteration 1161 / 4900) loss: 2.742621\n",
      "(Iteration 1171 / 4900) loss: 3.043726\n",
      "(Iteration 1181 / 4900) loss: 2.698042\n",
      "(Iteration 1191 / 4900) loss: 2.750638\n",
      "(Iteration 1201 / 4900) loss: 2.754424\n",
      "(Iteration 1211 / 4900) loss: 2.681986\n",
      "(Iteration 1221 / 4900) loss: 2.763448\n",
      "(Iteration 1231 / 4900) loss: 2.770452\n",
      "(Iteration 1241 / 4900) loss: 2.647849\n",
      "(Iteration 1251 / 4900) loss: 2.918882\n",
      "(Iteration 1261 / 4900) loss: 2.954938\n",
      "(Iteration 1271 / 4900) loss: 2.638014\n",
      "(Iteration 1281 / 4900) loss: 2.521343\n",
      "(Iteration 1291 / 4900) loss: 2.639138\n",
      "(Iteration 1301 / 4900) loss: 2.678355\n",
      "(Iteration 1311 / 4900) loss: 2.597770\n",
      "(Iteration 1321 / 4900) loss: 2.606008\n",
      "(Iteration 1331 / 4900) loss: 2.725913\n",
      "(Iteration 1341 / 4900) loss: 2.689428\n",
      "(Iteration 1351 / 4900) loss: 2.695085\n",
      "(Iteration 1361 / 4900) loss: 2.847437\n",
      "(Iteration 1371 / 4900) loss: 2.731173\n",
      "(Iteration 1381 / 4900) loss: 2.555813\n",
      "(Iteration 1391 / 4900) loss: 2.787880\n",
      "(Iteration 1401 / 4900) loss: 2.794405\n",
      "(Iteration 1411 / 4900) loss: 2.382101\n",
      "(Iteration 1421 / 4900) loss: 2.373385\n",
      "(Iteration 1431 / 4900) loss: 2.909726\n",
      "(Iteration 1441 / 4900) loss: 2.779029\n",
      "(Iteration 1451 / 4900) loss: 2.564196\n",
      "(Iteration 1461 / 4900) loss: 2.541523\n",
      "(Epoch 3 / 10) train acc: 0.485000; val_acc: 0.459000\n",
      "(Iteration 1471 / 4900) loss: 2.881065\n",
      "(Iteration 1481 / 4900) loss: 2.618908\n",
      "(Iteration 1491 / 4900) loss: 2.616827\n",
      "(Iteration 1501 / 4900) loss: 2.838584\n",
      "(Iteration 1511 / 4900) loss: 2.481668\n",
      "(Iteration 1521 / 4900) loss: 2.660121\n",
      "(Iteration 1531 / 4900) loss: 2.589517\n",
      "(Iteration 1541 / 4900) loss: 2.846808\n",
      "(Iteration 1551 / 4900) loss: 2.765640\n",
      "(Iteration 1561 / 4900) loss: 2.302231\n",
      "(Iteration 1571 / 4900) loss: 2.446683\n",
      "(Iteration 1581 / 4900) loss: 2.674781\n",
      "(Iteration 1591 / 4900) loss: 2.718264\n",
      "(Iteration 1601 / 4900) loss: 2.564978\n",
      "(Iteration 1611 / 4900) loss: 2.602996\n",
      "(Iteration 1621 / 4900) loss: 2.736084\n",
      "(Iteration 1631 / 4900) loss: 2.712542\n",
      "(Iteration 1641 / 4900) loss: 2.473433\n",
      "(Iteration 1651 / 4900) loss: 2.626618\n",
      "(Iteration 1661 / 4900) loss: 2.518149\n",
      "(Iteration 1671 / 4900) loss: 2.523298\n",
      "(Iteration 1681 / 4900) loss: 2.445748\n",
      "(Iteration 1691 / 4900) loss: 2.539223\n",
      "(Iteration 1701 / 4900) loss: 2.573236\n",
      "(Iteration 1711 / 4900) loss: 2.484081\n",
      "(Iteration 1721 / 4900) loss: 2.612289\n",
      "(Iteration 1731 / 4900) loss: 2.343459\n",
      "(Iteration 1741 / 4900) loss: 2.421233\n",
      "(Iteration 1751 / 4900) loss: 2.463852\n",
      "(Iteration 1761 / 4900) loss: 2.487660\n",
      "(Iteration 1771 / 4900) loss: 2.482175\n",
      "(Iteration 1781 / 4900) loss: 2.559668\n",
      "(Iteration 1791 / 4900) loss: 2.470758\n",
      "(Iteration 1801 / 4900) loss: 2.427283\n",
      "(Iteration 1811 / 4900) loss: 2.572052\n",
      "(Iteration 1821 / 4900) loss: 2.557926\n",
      "(Iteration 1831 / 4900) loss: 2.508695\n",
      "(Iteration 1841 / 4900) loss: 2.568541\n",
      "(Iteration 1851 / 4900) loss: 2.573323\n",
      "(Iteration 1861 / 4900) loss: 2.669454\n",
      "(Iteration 1871 / 4900) loss: 2.619501\n",
      "(Iteration 1881 / 4900) loss: 2.512120\n",
      "(Iteration 1891 / 4900) loss: 2.553392\n",
      "(Iteration 1901 / 4900) loss: 2.396855\n",
      "(Iteration 1911 / 4900) loss: 2.581273\n",
      "(Iteration 1921 / 4900) loss: 2.450524\n",
      "(Iteration 1931 / 4900) loss: 2.631471\n",
      "(Iteration 1941 / 4900) loss: 2.573833\n",
      "(Iteration 1951 / 4900) loss: 2.580341\n",
      "(Epoch 4 / 10) train acc: 0.519000; val_acc: 0.449000\n",
      "(Iteration 1961 / 4900) loss: 2.288463\n",
      "(Iteration 1971 / 4900) loss: 2.620726\n",
      "(Iteration 1981 / 4900) loss: 2.255461\n",
      "(Iteration 1991 / 4900) loss: 2.363304\n",
      "(Iteration 2001 / 4900) loss: 2.590302\n",
      "(Iteration 2011 / 4900) loss: 2.369817\n",
      "(Iteration 2021 / 4900) loss: 2.422942\n",
      "(Iteration 2031 / 4900) loss: 2.542361\n",
      "(Iteration 2041 / 4900) loss: 2.598052\n",
      "(Iteration 2051 / 4900) loss: 2.315362\n",
      "(Iteration 2061 / 4900) loss: 2.488210\n",
      "(Iteration 2071 / 4900) loss: 2.311073\n",
      "(Iteration 2081 / 4900) loss: 2.257699\n",
      "(Iteration 2091 / 4900) loss: 2.342246\n",
      "(Iteration 2101 / 4900) loss: 2.402775\n",
      "(Iteration 2111 / 4900) loss: 2.507415\n",
      "(Iteration 2121 / 4900) loss: 2.406933\n",
      "(Iteration 2131 / 4900) loss: 2.317824\n",
      "(Iteration 2141 / 4900) loss: 2.350831\n",
      "(Iteration 2151 / 4900) loss: 2.306212\n",
      "(Iteration 2161 / 4900) loss: 2.275005\n",
      "(Iteration 2171 / 4900) loss: 2.420682\n",
      "(Iteration 2181 / 4900) loss: 2.458621\n",
      "(Iteration 2191 / 4900) loss: 2.488669\n",
      "(Iteration 2201 / 4900) loss: 2.521386\n",
      "(Iteration 2211 / 4900) loss: 2.271151\n",
      "(Iteration 2221 / 4900) loss: 2.182839\n",
      "(Iteration 2231 / 4900) loss: 2.593010\n",
      "(Iteration 2241 / 4900) loss: 2.253389\n",
      "(Iteration 2251 / 4900) loss: 2.428229\n",
      "(Iteration 2261 / 4900) loss: 2.388396\n",
      "(Iteration 2271 / 4900) loss: 2.292047\n",
      "(Iteration 2281 / 4900) loss: 2.401542\n",
      "(Iteration 2291 / 4900) loss: 2.400365\n",
      "(Iteration 2301 / 4900) loss: 2.398522\n",
      "(Iteration 2311 / 4900) loss: 2.288411\n",
      "(Iteration 2321 / 4900) loss: 2.371315\n",
      "(Iteration 2331 / 4900) loss: 2.368312\n",
      "(Iteration 2341 / 4900) loss: 2.102210\n",
      "(Iteration 2351 / 4900) loss: 2.398104\n",
      "(Iteration 2361 / 4900) loss: 2.476676\n",
      "(Iteration 2371 / 4900) loss: 2.486415\n",
      "(Iteration 2381 / 4900) loss: 2.363490\n",
      "(Iteration 2391 / 4900) loss: 2.239141\n",
      "(Iteration 2401 / 4900) loss: 2.450872\n",
      "(Iteration 2411 / 4900) loss: 2.249315\n",
      "(Iteration 2421 / 4900) loss: 2.675350\n",
      "(Iteration 2431 / 4900) loss: 2.110716\n",
      "(Iteration 2441 / 4900) loss: 2.547584\n",
      "(Epoch 5 / 10) train acc: 0.512000; val_acc: 0.476000\n",
      "(Iteration 2451 / 4900) loss: 2.276462\n",
      "(Iteration 2461 / 4900) loss: 2.250060\n",
      "(Iteration 2471 / 4900) loss: 2.311393\n",
      "(Iteration 2481 / 4900) loss: 2.351093\n",
      "(Iteration 2491 / 4900) loss: 2.174058\n",
      "(Iteration 2501 / 4900) loss: 2.331259\n",
      "(Iteration 2511 / 4900) loss: 2.440988\n",
      "(Iteration 2521 / 4900) loss: 2.338819\n",
      "(Iteration 2531 / 4900) loss: 2.084867\n",
      "(Iteration 2541 / 4900) loss: 2.222031\n",
      "(Iteration 2551 / 4900) loss: 2.174733\n",
      "(Iteration 2561 / 4900) loss: 2.616624\n",
      "(Iteration 2571 / 4900) loss: 2.119550\n",
      "(Iteration 2581 / 4900) loss: 2.139683\n",
      "(Iteration 2591 / 4900) loss: 2.337490\n",
      "(Iteration 2601 / 4900) loss: 2.411318\n",
      "(Iteration 2611 / 4900) loss: 2.186534\n",
      "(Iteration 2621 / 4900) loss: 2.219522\n",
      "(Iteration 2631 / 4900) loss: 2.442624\n",
      "(Iteration 2641 / 4900) loss: 2.135193\n",
      "(Iteration 2651 / 4900) loss: 2.323568\n",
      "(Iteration 2661 / 4900) loss: 2.172617\n",
      "(Iteration 2671 / 4900) loss: 2.347109\n",
      "(Iteration 2681 / 4900) loss: 2.093286\n",
      "(Iteration 2691 / 4900) loss: 2.361114\n",
      "(Iteration 2701 / 4900) loss: 2.037952\n",
      "(Iteration 2711 / 4900) loss: 2.310371\n",
      "(Iteration 2721 / 4900) loss: 2.216280\n",
      "(Iteration 2731 / 4900) loss: 2.176640\n",
      "(Iteration 2741 / 4900) loss: 2.244135\n",
      "(Iteration 2751 / 4900) loss: 2.154269\n",
      "(Iteration 2761 / 4900) loss: 2.358393\n",
      "(Iteration 2771 / 4900) loss: 2.277933\n",
      "(Iteration 2781 / 4900) loss: 2.214663\n",
      "(Iteration 2791 / 4900) loss: 2.072546\n",
      "(Iteration 2801 / 4900) loss: 2.109725\n",
      "(Iteration 2811 / 4900) loss: 2.290205\n",
      "(Iteration 2821 / 4900) loss: 2.497648\n",
      "(Iteration 2831 / 4900) loss: 2.301498\n",
      "(Iteration 2841 / 4900) loss: 2.060509\n",
      "(Iteration 2851 / 4900) loss: 2.164511\n",
      "(Iteration 2861 / 4900) loss: 2.305155\n",
      "(Iteration 2871 / 4900) loss: 2.181342\n",
      "(Iteration 2881 / 4900) loss: 1.962635\n",
      "(Iteration 2891 / 4900) loss: 2.241616\n",
      "(Iteration 2901 / 4900) loss: 2.175551\n",
      "(Iteration 2911 / 4900) loss: 2.140891\n",
      "(Iteration 2921 / 4900) loss: 2.280597\n",
      "(Iteration 2931 / 4900) loss: 2.329544\n",
      "(Epoch 6 / 10) train acc: 0.552000; val_acc: 0.485000\n",
      "(Iteration 2941 / 4900) loss: 2.352739\n",
      "(Iteration 2951 / 4900) loss: 2.158279\n",
      "(Iteration 2961 / 4900) loss: 2.257511\n",
      "(Iteration 2971 / 4900) loss: 2.417479\n",
      "(Iteration 2981 / 4900) loss: 2.125121\n",
      "(Iteration 2991 / 4900) loss: 2.183534\n",
      "(Iteration 3001 / 4900) loss: 2.065958\n",
      "(Iteration 3011 / 4900) loss: 2.267867\n",
      "(Iteration 3021 / 4900) loss: 2.243905\n",
      "(Iteration 3031 / 4900) loss: 2.120952\n",
      "(Iteration 3041 / 4900) loss: 2.191489\n",
      "(Iteration 3051 / 4900) loss: 2.101389\n",
      "(Iteration 3061 / 4900) loss: 2.299523\n",
      "(Iteration 3071 / 4900) loss: 2.330789\n",
      "(Iteration 3081 / 4900) loss: 2.293969\n",
      "(Iteration 3091 / 4900) loss: 2.337658\n",
      "(Iteration 3101 / 4900) loss: 2.406446\n",
      "(Iteration 3111 / 4900) loss: 2.147183\n",
      "(Iteration 3121 / 4900) loss: 1.988953\n",
      "(Iteration 3131 / 4900) loss: 2.185354\n",
      "(Iteration 3141 / 4900) loss: 2.161344\n",
      "(Iteration 3151 / 4900) loss: 2.039982\n",
      "(Iteration 3161 / 4900) loss: 2.225772\n",
      "(Iteration 3171 / 4900) loss: 2.189652\n",
      "(Iteration 3181 / 4900) loss: 2.307253\n",
      "(Iteration 3191 / 4900) loss: 2.204089\n",
      "(Iteration 3201 / 4900) loss: 2.205691\n",
      "(Iteration 3211 / 4900) loss: 2.110118\n",
      "(Iteration 3221 / 4900) loss: 2.159511\n",
      "(Iteration 3231 / 4900) loss: 2.117517\n",
      "(Iteration 3241 / 4900) loss: 2.249679\n",
      "(Iteration 3251 / 4900) loss: 2.172516\n",
      "(Iteration 3261 / 4900) loss: 2.192103\n",
      "(Iteration 3271 / 4900) loss: 2.219975\n",
      "(Iteration 3281 / 4900) loss: 2.255779\n",
      "(Iteration 3291 / 4900) loss: 2.115174\n",
      "(Iteration 3301 / 4900) loss: 2.192877\n",
      "(Iteration 3311 / 4900) loss: 2.037568\n",
      "(Iteration 3321 / 4900) loss: 2.008793\n",
      "(Iteration 3331 / 4900) loss: 1.989473\n",
      "(Iteration 3341 / 4900) loss: 2.122031\n",
      "(Iteration 3351 / 4900) loss: 2.049194\n",
      "(Iteration 3361 / 4900) loss: 2.094474\n",
      "(Iteration 3371 / 4900) loss: 2.129129\n",
      "(Iteration 3381 / 4900) loss: 2.245145\n",
      "(Iteration 3391 / 4900) loss: 2.023331\n",
      "(Iteration 3401 / 4900) loss: 2.169286\n",
      "(Iteration 3411 / 4900) loss: 2.158715\n",
      "(Iteration 3421 / 4900) loss: 1.993657\n",
      "(Epoch 7 / 10) train acc: 0.507000; val_acc: 0.479000\n",
      "(Iteration 3431 / 4900) loss: 1.982661\n",
      "(Iteration 3441 / 4900) loss: 2.015142\n",
      "(Iteration 3451 / 4900) loss: 2.322534\n",
      "(Iteration 3461 / 4900) loss: 2.118307\n",
      "(Iteration 3471 / 4900) loss: 1.849954\n",
      "(Iteration 3481 / 4900) loss: 2.076664\n",
      "(Iteration 3491 / 4900) loss: 2.100090\n",
      "(Iteration 3501 / 4900) loss: 2.176970\n",
      "(Iteration 3511 / 4900) loss: 1.974196\n",
      "(Iteration 3521 / 4900) loss: 2.191210\n",
      "(Iteration 3531 / 4900) loss: 2.287356\n",
      "(Iteration 3541 / 4900) loss: 2.060749\n",
      "(Iteration 3551 / 4900) loss: 2.200735\n",
      "(Iteration 3561 / 4900) loss: 2.172176\n",
      "(Iteration 3571 / 4900) loss: 2.157749\n",
      "(Iteration 3581 / 4900) loss: 2.202576\n",
      "(Iteration 3591 / 4900) loss: 1.995375\n",
      "(Iteration 3601 / 4900) loss: 2.004045\n",
      "(Iteration 3611 / 4900) loss: 2.076071\n",
      "(Iteration 3621 / 4900) loss: 2.060321\n",
      "(Iteration 3631 / 4900) loss: 2.015501\n",
      "(Iteration 3641 / 4900) loss: 2.112684\n",
      "(Iteration 3651 / 4900) loss: 2.075475\n",
      "(Iteration 3661 / 4900) loss: 1.984419\n",
      "(Iteration 3671 / 4900) loss: 2.105104\n",
      "(Iteration 3681 / 4900) loss: 2.143254\n",
      "(Iteration 3691 / 4900) loss: 2.005933\n",
      "(Iteration 3701 / 4900) loss: 1.912954\n",
      "(Iteration 3711 / 4900) loss: 2.024218\n",
      "(Iteration 3721 / 4900) loss: 2.109786\n",
      "(Iteration 3731 / 4900) loss: 2.052256\n",
      "(Iteration 3741 / 4900) loss: 1.899088\n",
      "(Iteration 3751 / 4900) loss: 2.300874\n",
      "(Iteration 3761 / 4900) loss: 2.230675\n",
      "(Iteration 3771 / 4900) loss: 1.978018\n",
      "(Iteration 3781 / 4900) loss: 2.149353\n",
      "(Iteration 3791 / 4900) loss: 2.052285\n",
      "(Iteration 3801 / 4900) loss: 1.965247\n",
      "(Iteration 3811 / 4900) loss: 1.992645\n",
      "(Iteration 3821 / 4900) loss: 1.932758\n",
      "(Iteration 3831 / 4900) loss: 1.991749\n",
      "(Iteration 3841 / 4900) loss: 2.017391\n",
      "(Iteration 3851 / 4900) loss: 1.916769\n",
      "(Iteration 3861 / 4900) loss: 2.059728\n",
      "(Iteration 3871 / 4900) loss: 2.120171\n",
      "(Iteration 3881 / 4900) loss: 1.912246\n",
      "(Iteration 3891 / 4900) loss: 1.993267\n",
      "(Iteration 3901 / 4900) loss: 2.099433\n",
      "(Iteration 3911 / 4900) loss: 2.024505\n",
      "(Epoch 8 / 10) train acc: 0.569000; val_acc: 0.505000\n",
      "(Iteration 3921 / 4900) loss: 1.863133\n",
      "(Iteration 3931 / 4900) loss: 1.890387\n",
      "(Iteration 3941 / 4900) loss: 2.044829\n",
      "(Iteration 3951 / 4900) loss: 1.844302\n",
      "(Iteration 3961 / 4900) loss: 2.125964\n",
      "(Iteration 3971 / 4900) loss: 2.086189\n",
      "(Iteration 3981 / 4900) loss: 2.012506\n",
      "(Iteration 3991 / 4900) loss: 2.022538\n",
      "(Iteration 4001 / 4900) loss: 2.020904\n",
      "(Iteration 4011 / 4900) loss: 2.226624\n",
      "(Iteration 4021 / 4900) loss: 2.245990\n",
      "(Iteration 4031 / 4900) loss: 1.929333\n",
      "(Iteration 4041 / 4900) loss: 1.933164\n",
      "(Iteration 4051 / 4900) loss: 2.012798\n",
      "(Iteration 4061 / 4900) loss: 1.980355\n",
      "(Iteration 4071 / 4900) loss: 1.886624\n",
      "(Iteration 4081 / 4900) loss: 2.075209\n",
      "(Iteration 4091 / 4900) loss: 2.165985\n",
      "(Iteration 4101 / 4900) loss: 2.138066\n",
      "(Iteration 4111 / 4900) loss: 1.900872\n",
      "(Iteration 4121 / 4900) loss: 2.085171\n",
      "(Iteration 4131 / 4900) loss: 1.852254\n",
      "(Iteration 4141 / 4900) loss: 1.866789\n",
      "(Iteration 4151 / 4900) loss: 1.994843\n",
      "(Iteration 4161 / 4900) loss: 1.751495\n",
      "(Iteration 4171 / 4900) loss: 2.361392\n",
      "(Iteration 4181 / 4900) loss: 2.011217\n",
      "(Iteration 4191 / 4900) loss: 1.887486\n",
      "(Iteration 4201 / 4900) loss: 2.022999\n",
      "(Iteration 4211 / 4900) loss: 1.836969\n",
      "(Iteration 4221 / 4900) loss: 2.026739\n",
      "(Iteration 4231 / 4900) loss: 1.940264\n",
      "(Iteration 4241 / 4900) loss: 2.256182\n",
      "(Iteration 4251 / 4900) loss: 1.889118\n",
      "(Iteration 4261 / 4900) loss: 1.956105\n",
      "(Iteration 4271 / 4900) loss: 2.239373\n",
      "(Iteration 4281 / 4900) loss: 1.744230\n",
      "(Iteration 4291 / 4900) loss: 1.980667\n",
      "(Iteration 4301 / 4900) loss: 1.734832\n",
      "(Iteration 4311 / 4900) loss: 1.828372\n",
      "(Iteration 4321 / 4900) loss: 1.749035\n",
      "(Iteration 4331 / 4900) loss: 2.021491\n",
      "(Iteration 4341 / 4900) loss: 1.900122\n",
      "(Iteration 4351 / 4900) loss: 1.924468\n",
      "(Iteration 4361 / 4900) loss: 1.877874\n",
      "(Iteration 4371 / 4900) loss: 1.936520\n",
      "(Iteration 4381 / 4900) loss: 1.926653\n",
      "(Iteration 4391 / 4900) loss: 1.821500\n",
      "(Iteration 4401 / 4900) loss: 2.069262\n",
      "(Epoch 9 / 10) train acc: 0.554000; val_acc: 0.506000\n",
      "(Iteration 4411 / 4900) loss: 1.873943\n",
      "(Iteration 4421 / 4900) loss: 1.878812\n",
      "(Iteration 4431 / 4900) loss: 1.876725\n",
      "(Iteration 4441 / 4900) loss: 1.887620\n",
      "(Iteration 4451 / 4900) loss: 2.005191\n",
      "(Iteration 4461 / 4900) loss: 1.923489\n",
      "(Iteration 4471 / 4900) loss: 1.935933\n",
      "(Iteration 4481 / 4900) loss: 1.798193\n",
      "(Iteration 4491 / 4900) loss: 1.601645\n",
      "(Iteration 4501 / 4900) loss: 2.080751\n",
      "(Iteration 4511 / 4900) loss: 2.178475\n",
      "(Iteration 4521 / 4900) loss: 1.786821\n",
      "(Iteration 4531 / 4900) loss: 1.734241\n",
      "(Iteration 4541 / 4900) loss: 1.798852\n",
      "(Iteration 4551 / 4900) loss: 1.854702\n",
      "(Iteration 4561 / 4900) loss: 1.765306\n",
      "(Iteration 4571 / 4900) loss: 1.880736\n",
      "(Iteration 4581 / 4900) loss: 1.725740\n",
      "(Iteration 4591 / 4900) loss: 1.723136\n",
      "(Iteration 4601 / 4900) loss: 1.626684\n",
      "(Iteration 4611 / 4900) loss: 1.977188\n",
      "(Iteration 4621 / 4900) loss: 1.863192\n",
      "(Iteration 4631 / 4900) loss: 1.955578\n",
      "(Iteration 4641 / 4900) loss: 1.965502\n",
      "(Iteration 4651 / 4900) loss: 1.843916\n",
      "(Iteration 4661 / 4900) loss: 1.871904\n",
      "(Iteration 4671 / 4900) loss: 1.934744\n",
      "(Iteration 4681 / 4900) loss: 1.866186\n",
      "(Iteration 4691 / 4900) loss: 1.899124\n",
      "(Iteration 4701 / 4900) loss: 1.937224\n",
      "(Iteration 4711 / 4900) loss: 1.746370\n",
      "(Iteration 4721 / 4900) loss: 1.862393\n",
      "(Iteration 4731 / 4900) loss: 1.718730\n",
      "(Iteration 4741 / 4900) loss: 1.701567\n",
      "(Iteration 4751 / 4900) loss: 1.763438\n",
      "(Iteration 4761 / 4900) loss: 1.759531\n",
      "(Iteration 4771 / 4900) loss: 2.110712\n",
      "(Iteration 4781 / 4900) loss: 1.864379\n",
      "(Iteration 4791 / 4900) loss: 1.729894\n",
      "(Iteration 4801 / 4900) loss: 1.736500\n",
      "(Iteration 4811 / 4900) loss: 1.780016\n",
      "(Iteration 4821 / 4900) loss: 1.800677\n",
      "(Iteration 4831 / 4900) loss: 2.106855\n",
      "(Iteration 4841 / 4900) loss: 1.753998\n",
      "(Iteration 4851 / 4900) loss: 1.853250\n",
      "(Iteration 4861 / 4900) loss: 1.897653\n",
      "(Iteration 4871 / 4900) loss: 1.851818\n",
      "(Iteration 4881 / 4900) loss: 1.907210\n",
      "(Iteration 4891 / 4900) loss: 1.860067\n",
      "(Epoch 10 / 10) train acc: 0.585000; val_acc: 0.494000\n"
     ]
    }
   ],
   "source": [
    "model = TwoLayerNet(reg = 0.10)\n",
    "config = {'learning_rate':1e-4}\n",
    "solver = Solver(model, data, update_rule = 'sgd_momentum', optim_config = config)\n",
    "\n",
    "##############################################################################\n",
    "# TODO: Use a Solver instance to train a TwoLayerNet that achieves at least  #\n",
    "# 50% accuracy on the validation set.                                        #\n",
    "##############################################################################\n",
    "solver.train()\n",
    "# solver.check_accuracy(data['X_val'], data['y_val'])\n",
    "##############################################################################\n",
    "#                             END OF YOUR CODE                               #\n",
    "##############################################################################"
   ]
  },
  {
   "cell_type": "code",
   "execution_count": 30,
   "metadata": {
    "collapsed": false
   },
   "outputs": [
    {
     "data": {
      "image/png": "[encoded data removed]",
      "text/plain": [
       "<matplotlib.figure.Figure at 0x16f92da0>"
      ]
     },
     "metadata": {},
     "output_type": "display_data"
    },
    {
     "data": {
      "text/plain": [
       "0.50600000000000001"
      ]
     },
     "execution_count": 30,
     "metadata": {},
     "output_type": "execute_result"
    }
   ],
   "source": [
    "# Run this cell to visualize training loss and train / val accuracy\n",
    "\n",
    "plt.subplot(2, 1, 1)\n",
    "plt.title('Training loss')\n",
    "plt.plot(solver.loss_history, 'o')\n",
    "plt.xlabel('Iteration')\n",
    "\n",
    "plt.subplot(2, 1, 2)\n",
    "plt.title('Accuracy')\n",
    "plt.plot(solver.train_acc_history, '-o', label='train')\n",
    "plt.plot(solver.val_acc_history, '-o', label='val')\n",
    "plt.plot([0.5] * len(solver.val_acc_history), 'k--')\n",
    "plt.xlabel('Epoch')\n",
    "plt.legend(loc='lower right')\n",
    "plt.gcf().set_size_inches(15, 12)\n",
    "plt.show()\n",
    "\n",
    "solver.check_accuracy(data['X_val'], data['y_val'])"
   ]
  },
  {
   "cell_type": "markdown",
   "metadata": {},
   "source": [
    "# Multilayer network\n",
    "Next you will implement a fully-connected network with an arbitrary number of hidden layers.\n",
    "\n",
    "Read through the `FullyConnectedNet` class in the file `cs231n/classifiers/fc_net.py`.\n",
    "\n",
    "Implement the initialization, the forward pass, and the backward pass. For the moment don't worry about implementing dropout or batch normalization; we will add those features soon."
   ]
  },
  {
   "cell_type": "markdown",
   "metadata": {},
   "source": [
    "## Initial loss and gradient check"
   ]
  },
  {
   "cell_type": "markdown",
   "metadata": {},
   "source": [
    "As a sanity check, run the following to check the initial loss and to gradient check the network both with and without regularization. Do the initial losses seem reasonable?\n",
    "\n",
    "For gradient checking, you should expect to see errors around 1e-6 or less."
   ]
  },
  {
   "cell_type": "code",
   "execution_count": 14,
   "metadata": {
    "collapsed": false
   },
   "outputs": [
    {
     "name": "stdout",
     "output_type": "stream",
     "text": [
      "Running check with reg =  0\n",
      "Initial loss:  2.30204176238\n",
      "W1 relative error: 6.77e-07\n",
      "W2 relative error: 3.76e-07\n",
      "W3 relative error: 3.98e-06\n",
      "W4 relative error: 9.48e-07\n",
      "b1 relative error: 4.15e-08\n",
      "b2 relative error: 2.74e-08\n",
      "b3 relative error: 6.21e-09\n",
      "b4 relative error: 1.14e-10\n",
      "Running check with reg =  3.14\n",
      "Initial loss:  14.240512869\n",
      "W1 relative error: 5.66e-08\n",
      "W2 relative error: 1.17e-07\n",
      "W3 relative error: 7.26e-07\n",
      "W4 relative error: 1.54e-07\n",
      "b1 relative error: 3.88e-06\n",
      "b2 relative error: 3.43e-08\n",
      "b3 relative error: 8.14e-09\n",
      "b4 relative error: 1.72e-10\n"
     ]
    }
   ],
   "source": [
    "N, D, H1, H2, H3, C = 2, 15, 20, 30, 50, 10\n",
    "X = np.random.randn(N, D)\n",
    "y = np.random.randint(C, size=(N,))\n",
    "\n",
    "for reg in [0, 3.14]:\n",
    "  print 'Running check with reg = ', reg\n",
    "  model = FullyConnectedNet([H1, H2, H3], input_dim=D, num_classes=C,\n",
    "                            reg=reg, weight_scale=5e-2, dtype=np.float64)\n",
    "\n",
    "  loss, grads = model.loss(X, y)\n",
    "  print 'Initial loss: ', loss\n",
    "\n",
    "  for name in sorted(grads):\n",
    "    f = lambda _: model.loss(X, y)[0]\n",
    "    grad_num = eval_numerical_gradient(f, model.params[name], verbose=False, h=1e-5)\n",
    "    print '%s relative error: %.2e' % (name, rel_error(grad_num, grads[name]))"
   ]
  },
  {
   "cell_type": "markdown",
   "metadata": {},
   "source": [
    "As another sanity check, make sure you can overfit a small dataset of 50 images. First we will try a three-layer network with 100 units in each hidden layer. You will need to tweak the learning rate and initialization scale, but you should be able to overfit and achieve 100% training accuracy within 20 epochs."
   ]
  },
  {
   "cell_type": "code",
   "execution_count": 32,
   "metadata": {
    "collapsed": false,
    "scrolled": false
   },
   "outputs": [
    {
     "name": "stdout",
     "output_type": "stream",
     "text": [
      "(Iteration 1 / 100) loss: 2.332409\n",
      "(Epoch 0 / 20) train acc: 0.260000; val_acc: 0.124000\n",
      "(Epoch 1 / 20) train acc: 0.320000; val_acc: 0.141000\n",
      "(Epoch 2 / 20) train acc: 0.340000; val_acc: 0.148000\n",
      "(Iteration 11 / 100) loss: 1.735393\n",
      "(Epoch 3 / 20) train acc: 0.480000; val_acc: 0.153000\n",
      "(Epoch 4 / 20) train acc: 0.520000; val_acc: 0.175000\n",
      "(Iteration 21 / 100) loss: 1.009494\n",
      "(Epoch 5 / 20) train acc: 0.660000; val_acc: 0.144000\n",
      "(Epoch 6 / 20) train acc: 0.780000; val_acc: 0.195000\n",
      "(Iteration 31 / 100) loss: 0.405578\n",
      "(Epoch 7 / 20) train acc: 0.800000; val_acc: 0.147000\n",
      "(Epoch 8 / 20) train acc: 0.940000; val_acc: 0.208000\n",
      "(Iteration 41 / 100) loss: 0.470112\n",
      "(Epoch 9 / 20) train acc: 0.940000; val_acc: 0.188000\n",
      "(Epoch 10 / 20) train acc: 1.000000; val_acc: 0.181000\n",
      "(Iteration 51 / 100) loss: 0.070689\n",
      "(Epoch 11 / 20) train acc: 1.000000; val_acc: 0.172000\n",
      "(Epoch 12 / 20) train acc: 0.980000; val_acc: 0.166000\n",
      "(Iteration 61 / 100) loss: 0.401194\n",
      "(Epoch 13 / 20) train acc: 1.000000; val_acc: 0.183000\n",
      "(Epoch 14 / 20) train acc: 1.000000; val_acc: 0.196000\n",
      "(Iteration 71 / 100) loss: 0.069593\n",
      "(Epoch 15 / 20) train acc: 1.000000; val_acc: 0.185000\n",
      "(Epoch 16 / 20) train acc: 1.000000; val_acc: 0.174000\n",
      "(Iteration 81 / 100) loss: 0.009761\n",
      "(Epoch 17 / 20) train acc: 1.000000; val_acc: 0.187000\n",
      "(Epoch 18 / 20) train acc: 1.000000; val_acc: 0.178000\n",
      "(Iteration 91 / 100) loss: 0.010844\n",
      "(Epoch 19 / 20) train acc: 1.000000; val_acc: 0.179000\n",
      "(Epoch 20 / 20) train acc: 1.000000; val_acc: 0.178000\n"
     ]
    },
    {
     "data": {
      "image/png": "[encoded data removed]",
      "text/plain": [
       "<matplotlib.figure.Figure at 0x16f92b00>"
      ]
     },
     "metadata": {},
     "output_type": "display_data"
    }
   ],
   "source": [
    "# TODO: Use a three-layer Net to overfit 50 training examples.\n",
    "\n",
    "num_train = 50\n",
    "small_data = {\n",
    "  'X_train': data['X_train'][:num_train],\n",
    "  'y_train': data['y_train'][:num_train],\n",
    "  'X_val': data['X_val'],\n",
    "  'y_val': data['y_val'],\n",
    "}\n",
    "\n",
    "weight_scale = 8e-3\n",
    "learning_rate = 7.0e-3\n",
    "model = FullyConnectedNet([100, 100],\n",
    "              weight_scale=weight_scale, dtype=np.float64)\n",
    "solver = Solver(model, small_data,\n",
    "                print_every=10, num_epochs=20, batch_size=10,\n",
    "                update_rule='sgd',\n",
    "                optim_config={\n",
    "                  'learning_rate': learning_rate,\n",
    "                }\n",
    "         )\n",
    "solver.train()\n",
    "\n",
    "plt.plot(solver.loss_history, 'o')\n",
    "plt.title('Training loss history')\n",
    "plt.xlabel('Iteration')\n",
    "plt.ylabel('Training loss')\n",
    "plt.show()"
   ]
  },
  {
   "cell_type": "markdown",
   "metadata": {},
   "source": [
    "Now try to use a five-layer network with 100 units on each layer to overfit 50 training examples. Again you will have to adjust the learning rate and weight initialization, but you should be able to achieve 100% training accuracy within 20 epochs."
   ]
  },
  {
   "cell_type": "code",
   "execution_count": 33,
   "metadata": {
    "collapsed": false
   },
   "outputs": [
    {
     "name": "stdout",
     "output_type": "stream",
     "text": [
      "(Iteration 1 / 100) loss: 5.307941\n",
      "(Epoch 0 / 20) train acc: 0.280000; val_acc: 0.122000\n",
      "(Epoch 1 / 20) train acc: 0.520000; val_acc: 0.157000\n",
      "(Epoch 2 / 20) train acc: 0.720000; val_acc: 0.164000\n",
      "(Iteration 11 / 100) loss: 1.785764\n",
      "(Epoch 3 / 20) train acc: 0.820000; val_acc: 0.167000\n",
      "(Epoch 4 / 20) train acc: 0.880000; val_acc: 0.176000\n",
      "(Iteration 21 / 100) loss: 0.211928\n",
      "(Epoch 5 / 20) train acc: 0.880000; val_acc: 0.179000\n",
      "(Epoch 6 / 20) train acc: 0.940000; val_acc: 0.180000\n",
      "(Iteration 31 / 100) loss: 0.248114\n",
      "(Epoch 7 / 20) train acc: 0.980000; val_acc: 0.169000\n",
      "(Epoch 8 / 20) train acc: 1.000000; val_acc: 0.177000\n",
      "(Iteration 41 / 100) loss: 0.090089\n",
      "(Epoch 9 / 20) train acc: 1.000000; val_acc: 0.178000\n",
      "(Epoch 10 / 20) train acc: 1.000000; val_acc: 0.186000\n",
      "(Iteration 51 / 100) loss: 0.117117\n",
      "(Epoch 11 / 20) train acc: 1.000000; val_acc: 0.182000\n",
      "(Epoch 12 / 20) train acc: 1.000000; val_acc: 0.187000\n",
      "(Iteration 61 / 100) loss: 0.090040\n",
      "(Epoch 13 / 20) train acc: 1.000000; val_acc: 0.176000\n",
      "(Epoch 14 / 20) train acc: 1.000000; val_acc: 0.184000\n",
      "(Iteration 71 / 100) loss: 0.068232\n",
      "(Epoch 15 / 20) train acc: 1.000000; val_acc: 0.184000\n",
      "(Epoch 16 / 20) train acc: 1.000000; val_acc: 0.181000\n",
      "(Iteration 81 / 100) loss: 0.024902\n",
      "(Epoch 17 / 20) train acc: 1.000000; val_acc: 0.187000\n",
      "(Epoch 18 / 20) train acc: 1.000000; val_acc: 0.186000\n",
      "(Iteration 91 / 100) loss: 0.018513\n",
      "(Epoch 19 / 20) train acc: 1.000000; val_acc: 0.184000\n",
      "(Epoch 20 / 20) train acc: 1.000000; val_acc: 0.187000\n"
     ]
    },
    {
     "data": {
      "image/png": "[encoded data removed]",
      "text/plain": [
       "<matplotlib.figure.Figure at 0x16a7e2e8>"
      ]
     },
     "metadata": {},
     "output_type": "display_data"
    }
   ],
   "source": [
    "# TODO: Use a five-layer Net to overfit 50 training examples.\n",
    "\n",
    "num_train = 50\n",
    "small_data = {\n",
    "  'X_train': data['X_train'][:num_train],\n",
    "  'y_train': data['y_train'][:num_train],\n",
    "  'X_val': data['X_val'],\n",
    "  'y_val': data['y_val'],\n",
    "}\n",
    "\n",
    "learning_rate = 4e-3\n",
    "weight_scale = 50e-3\n",
    "model = FullyConnectedNet([100, 100, 100, 100],\n",
    "                weight_scale=weight_scale, dtype=np.float64)\n",
    "solver = Solver(model, small_data,\n",
    "                print_every=10, num_epochs=20, batch_size=10,\n",
    "                update_rule='sgd',\n",
    "                optim_config={\n",
    "                  'learning_rate': learning_rate,\n",
    "                }\n",
    "         )\n",
    "solver.train()\n",
    "\n",
    "plt.plot(solver.loss_history, 'o')\n",
    "plt.title('Training loss history')\n",
    "plt.xlabel('Iteration')\n",
    "plt.ylabel('Training loss')\n",
    "plt.show()"
   ]
  },
  {
   "cell_type": "markdown",
   "metadata": {},
   "source": [
    "# Inline question: \n",
    "Did you notice anything about the comparative difficulty of training the three-layer net vs training the five layer net?\n",
    "\n",
    "# Answer:\n",
    "***It's actually much easier for the five layer neural network to overfit. With a larger weight scale it can easily get 100% training error in 5 epochs.***\n"
   ]
  },
  {
   "cell_type": "markdown",
   "metadata": {},
   "source": [
    "# Update rules\n",
    "So far we have used vanilla stochastic gradient descent (SGD) as our update rule. More sophisticated update rules can make it easier to train deep networks. We will implement a few of the most commonly used update rules and compare them to vanilla SGD."
   ]
  },
  {
   "cell_type": "markdown",
   "metadata": {},
   "source": [
    "# SGD+Momentum\n",
    "Stochastic gradient descent with momentum is a widely used update rule that tends to make deep networks converge faster than vanilla stochstic gradient descent.\n",
    "\n",
    "Open the file `cs231n/optim.py` and read the documentation at the top of the file to make sure you understand the API. Implement the SGD+momentum update rule in the function `sgd_momentum` and run the following to check your implementation. You should see errors less than 1e-8."
   ]
  },
  {
   "cell_type": "code",
   "execution_count": 34,
   "metadata": {
    "collapsed": false
   },
   "outputs": [
    {
     "name": "stdout",
     "output_type": "stream",
     "text": [
      "[[ 0.1406      0.20738947  0.27417895  0.34096842  0.40775789]\n",
      " [ 0.47454737  0.54133684  0.60812632  0.67491579  0.74170526]\n",
      " [ 0.80849474  0.87528421  0.94207368  1.00886316  1.07565263]\n",
      " [ 1.14244211  1.20923158  1.27602105  1.34281053  1.4096    ]]\n",
      "next_w error:  8.88234703351e-09\n",
      "velocity error:  4.26928774328e-09\n"
     ]
    }
   ],
   "source": [
    "from cs231n.optim import sgd_momentum\n",
    "\n",
    "N, D = 4, 5\n",
    "w = np.linspace(-0.4, 0.6, num=N*D).reshape(N, D)\n",
    "dw = np.linspace(-0.6, 0.4, num=N*D).reshape(N, D)\n",
    "v = np.linspace(0.6, 0.9, num=N*D).reshape(N, D)\n",
    "\n",
    "config = {'learning_rate': 1e-3, 'velocity': v}\n",
    "next_w, _ = sgd_momentum(w, dw, config=config)\n",
    "print next_w\n",
    "expected_next_w = np.asarray([\n",
    "  [ 0.1406,      0.20738947,  0.27417895,  0.34096842,  0.40775789],\n",
    "  [ 0.47454737,  0.54133684,  0.60812632,  0.67491579,  0.74170526],\n",
    "  [ 0.80849474,  0.87528421,  0.94207368,  1.00886316,  1.07565263],\n",
    "  [ 1.14244211,  1.20923158,  1.27602105,  1.34281053,  1.4096    ]])\n",
    "expected_velocity = np.asarray([\n",
    "  [ 0.5406,      0.55475789,  0.56891579, 0.58307368,  0.59723158],\n",
    "  [ 0.61138947,  0.62554737,  0.63970526,  0.65386316,  0.66802105],\n",
    "  [ 0.68217895,  0.69633684,  0.71049474,  0.72465263,  0.73881053],\n",
    "  [ 0.75296842,  0.76712632,  0.78128421,  0.79544211,  0.8096    ]])\n",
    "\n",
    "print 'next_w error: ', rel_error(next_w, expected_next_w)\n",
    "print 'velocity error: ', rel_error(expected_velocity, config['velocity'])"
   ]
  },
  {
   "cell_type": "markdown",
   "metadata": {},
   "source": [
    "Once you have done so, run the following to train a six-layer network with both SGD and SGD+momentum. You should see the SGD+momentum update rule converge faster."
   ]
  },
  {
   "cell_type": "code",
   "execution_count": 35,
   "metadata": {
    "collapsed": false,
    "scrolled": false
   },
   "outputs": [
    {
     "name": "stdout",
     "output_type": "stream",
     "text": [
      "running with  sgd\n",
      "(Iteration 1 / 200) loss: 2.503036\n",
      "(Epoch 0 / 5) train acc: 0.121000; val_acc: 0.107000\n",
      "(Iteration 11 / 200) loss: 2.178001\n",
      "(Iteration 21 / 200) loss: 2.105279\n",
      "(Iteration 31 / 200) loss: 2.152087\n",
      "(Epoch 1 / 5) train acc: 0.271000; val_acc: 0.241000\n",
      "(Iteration 41 / 200) loss: 2.033688\n",
      "(Iteration 51 / 200) loss: 1.834861\n",
      "(Iteration 61 / 200) loss: 1.964183\n",
      "(Iteration 71 / 200) loss: 1.953756\n",
      "(Epoch 2 / 5) train acc: 0.320000; val_acc: 0.294000\n",
      "(Iteration 81 / 200) loss: 1.848332\n",
      "(Iteration 91 / 200) loss: 1.814870\n",
      "(Iteration 101 / 200) loss: 1.914354\n",
      "(Iteration 111 / 200) loss: 1.782583\n",
      "(Epoch 3 / 5) train acc: 0.358000; val_acc: 0.316000\n",
      "(Iteration 121 / 200) loss: 1.773996\n",
      "(Iteration 131 / 200) loss: 1.875697\n",
      "(Iteration 141 / 200) loss: 1.757942\n",
      "(Iteration 151 / 200) loss: 1.743313\n",
      "(Epoch 4 / 5) train acc: 0.434000; val_acc: 0.313000\n",
      "(Iteration 161 / 200) loss: 1.770278\n",
      "(Iteration 171 / 200) loss: 1.633423\n",
      "(Iteration 181 / 200) loss: 1.825458\n",
      "(Iteration 191 / 200) loss: 1.789518\n",
      "(Epoch 5 / 5) train acc: 0.417000; val_acc: 0.325000\n",
      "\n",
      "running with  sgd_momentum\n",
      "(Iteration 1 / 200) loss: 2.394320\n",
      "(Epoch 0 / 5) train acc: 0.136000; val_acc: 0.146000\n",
      "(Iteration 11 / 200) loss: 2.081405\n",
      "(Iteration 21 / 200) loss: 1.988763\n",
      "(Iteration 31 / 200) loss: 1.988130\n",
      "(Epoch 1 / 5) train acc: 0.321000; val_acc: 0.284000\n",
      "(Iteration 41 / 200) loss: 1.919169\n",
      "(Iteration 51 / 200) loss: 1.801960\n",
      "(Iteration 61 / 200) loss: 1.955227\n",
      "(Iteration 71 / 200) loss: 1.671907\n",
      "(Epoch 2 / 5) train acc: 0.407000; val_acc: 0.329000\n",
      "(Iteration 81 / 200) loss: 1.717715\n",
      "(Iteration 91 / 200) loss: 1.647435\n",
      "(Iteration 101 / 200) loss: 1.739288\n",
      "(Iteration 111 / 200) loss: 1.649311\n",
      "(Epoch 3 / 5) train acc: 0.402000; val_acc: 0.331000\n",
      "(Iteration 121 / 200) loss: 1.611282\n",
      "(Iteration 131 / 200) loss: 1.576172\n",
      "(Iteration 141 / 200) loss: 1.422635\n",
      "(Iteration 151 / 200) loss: 1.543063\n",
      "(Epoch 4 / 5) train acc: 0.476000; val_acc: 0.317000\n",
      "(Iteration 161 / 200) loss: 1.400371\n",
      "(Iteration 171 / 200) loss: 1.444896\n",
      "(Iteration 181 / 200) loss: 1.513799\n",
      "(Iteration 191 / 200) loss: 1.362519\n",
      "(Epoch 5 / 5) train acc: 0.522000; val_acc: 0.368000\n",
      "\n"
     ]
    },
    {
     "data": {
      "image/png": "[encoded data removed]",
      "text/plain": [
       "<matplotlib.figure.Figure at 0x16a91d68>"
      ]
     },
     "metadata": {},
     "output_type": "display_data"
    }
   ],
   "source": [
    "num_train = 4000\n",
    "small_data = {\n",
    "  'X_train': data['X_train'][:num_train],\n",
    "  'y_train': data['y_train'][:num_train],\n",
    "  'X_val': data['X_val'],\n",
    "  'y_val': data['y_val'],\n",
    "}\n",
    "\n",
    "solvers = {}\n",
    "\n",
    "for update_rule in ['sgd', 'sgd_momentum']:\n",
    "  print 'running with ', update_rule\n",
    "  model = FullyConnectedNet([100, 100, 100, 100, 100], weight_scale=5e-2)\n",
    "\n",
    "  solver = Solver(model, small_data,\n",
    "                  num_epochs=5, batch_size=100,\n",
    "                  update_rule=update_rule,\n",
    "                  optim_config={\n",
    "                    'learning_rate': 1e-2,\n",
    "                  },\n",
    "                  verbose=True)\n",
    "  solvers[update_rule] = solver\n",
    "  solver.train()\n",
    "  print\n",
    "\n",
    "plt.subplot(3, 1, 1)\n",
    "plt.title('Training loss')\n",
    "plt.xlabel('Iteration')\n",
    "\n",
    "plt.subplot(3, 1, 2)\n",
    "plt.title('Training accuracy')\n",
    "plt.xlabel('Epoch')\n",
    "\n",
    "plt.subplot(3, 1, 3)\n",
    "plt.title('Validation accuracy')\n",
    "plt.xlabel('Epoch')\n",
    "\n",
    "for update_rule, solver in solvers.iteritems():\n",
    "  plt.subplot(3, 1, 1)\n",
    "  plt.plot(solver.loss_history, 'o', label=update_rule)\n",
    "  \n",
    "  plt.subplot(3, 1, 2)\n",
    "  plt.plot(solver.train_acc_history, '-o', label=update_rule)\n",
    "\n",
    "  plt.subplot(3, 1, 3)\n",
    "  plt.plot(solver.val_acc_history, '-o', label=update_rule)\n",
    "  \n",
    "for i in [1, 2, 3]:\n",
    "  plt.subplot(3, 1, i)\n",
    "  plt.legend(loc='upper center', ncol=4)\n",
    "plt.gcf().set_size_inches(15, 15)\n",
    "plt.show()"
   ]
  },
  {
   "cell_type": "markdown",
   "metadata": {},
   "source": [
    "# RMSProp and Adam\n",
    "RMSProp [1] and Adam [2] are update rules that set per-parameter learning rates by using a running average of the second moments of gradients.\n",
    "\n",
    "In the file `cs231n/optim.py`, implement the RMSProp update rule in the `rmsprop` function and implement the Adam update rule in the `adam` function, and check your implementations using the tests below.\n",
    "\n",
    "[1] Tijmen Tieleman and Geoffrey Hinton. \"Lecture 6.5-rmsprop: Divide the gradient by a running average of its recent magnitude.\" COURSERA: Neural Networks for Machine Learning 4 (2012).\n",
    "\n",
    "[2] Diederik Kingma and Jimmy Ba, \"Adam: A Method for Stochastic Optimization\", ICLR 2015."
   ]
  },
  {
   "cell_type": "code",
   "execution_count": null,
   "metadata": {
    "collapsed": false
   },
   "outputs": [],
   "source": [
    "# Test RMSProp implementation; you should see errors less than 1e-7\n",
    "from cs231n.optim import rmsprop\n",
    "\n",
    "N, D = 4, 5\n",
    "w = np.linspace(-0.4, 0.6, num=N*D).reshape(N, D)\n",
    "dw = np.linspace(-0.6, 0.4, num=N*D).reshape(N, D)\n",
    "cache = np.linspace(0.6, 0.9, num=N*D).reshape(N, D)\n",
    "\n",
    "config = {'learning_rate': 1e-2, 'cache': cache}\n",
    "next_w, _ = rmsprop(w, dw, config=config)\n",
    "\n",
    "expected_next_w = np.asarray([\n",
    "  [-0.39223849, -0.34037513, -0.28849239, -0.23659121, -0.18467247],\n",
    "  [-0.132737,   -0.08078555, -0.02881884,  0.02316247,  0.07515774],\n",
    "  [ 0.12716641,  0.17918792,  0.23122175,  0.28326742,  0.33532447],\n",
    "  [ 0.38739248,  0.43947102,  0.49155973,  0.54365823,  0.59576619]])\n",
    "expected_cache = np.asarray([\n",
    "  [ 0.5976,      0.6126277,   0.6277108,   0.64284931,  0.65804321],\n",
    "  [ 0.67329252,  0.68859723,  0.70395734,  0.71937285,  0.73484377],\n",
    "  [ 0.75037008,  0.7659518,   0.78158892,  0.79728144,  0.81302936],\n",
    "  [ 0.82883269,  0.84469141,  0.86060554,  0.87657507,  0.8926    ]])\n",
    "\n",
    "print 'next_w error: ', rel_error(expected_next_w, next_w)\n",
    "print 'cache error: ', rel_error(expected_cache, config['cache'])"
   ]
  },
  {
   "cell_type": "code",
   "execution_count": null,
   "metadata": {
    "collapsed": false
   },
   "outputs": [],
   "source": [
    "# Test Adam implementation; you should see errors around 1e-7 or less\n",
    "from cs231n.optim import adam\n",
    "\n",
    "N, D = 4, 5\n",
    "w = np.linspace(-0.4, 0.6, num=N*D).reshape(N, D)\n",
    "dw = np.linspace(-0.6, 0.4, num=N*D).reshape(N, D)\n",
    "m = np.linspace(0.6, 0.9, num=N*D).reshape(N, D)\n",
    "v = np.linspace(0.7, 0.5, num=N*D).reshape(N, D)\n",
    "\n",
    "config = {'learning_rate': 1e-2, 'm': m, 'v': v, 't': 5}\n",
    "next_w, _ = adam(w, dw, config=config)\n",
    "\n",
    "expected_next_w = np.asarray([\n",
    "  [-0.40094747, -0.34836187, -0.29577703, -0.24319299, -0.19060977],\n",
    "  [-0.1380274,  -0.08544591, -0.03286534,  0.01971428,  0.0722929],\n",
    "  [ 0.1248705,   0.17744702,  0.23002243,  0.28259667,  0.33516969],\n",
    "  [ 0.38774145,  0.44031188,  0.49288093,  0.54544852,  0.59801459]])\n",
    "expected_v = np.asarray([\n",
    "  [ 0.69966,     0.68908382,  0.67851319,  0.66794809,  0.65738853,],\n",
    "  [ 0.64683452,  0.63628604,  0.6257431,   0.61520571,  0.60467385,],\n",
    "  [ 0.59414753,  0.58362676,  0.57311152,  0.56260183,  0.55209767,],\n",
    "  [ 0.54159906,  0.53110598,  0.52061845,  0.51013645,  0.49966,   ]])\n",
    "expected_m = np.asarray([\n",
    "  [ 0.48,        0.49947368,  0.51894737,  0.53842105,  0.55789474],\n",
    "  [ 0.57736842,  0.59684211,  0.61631579,  0.63578947,  0.65526316],\n",
    "  [ 0.67473684,  0.69421053,  0.71368421,  0.73315789,  0.75263158],\n",
    "  [ 0.77210526,  0.79157895,  0.81105263,  0.83052632,  0.85      ]])\n",
    "\n",
    "print 'next_w error: ', rel_error(expected_next_w, next_w)\n",
    "print 'v error: ', rel_error(expected_v, config['v'])\n",
    "print 'm error: ', rel_error(expected_m, config['m'])"
   ]
  },
  {
   "cell_type": "markdown",
   "metadata": {},
   "source": [
    "Once you have debugged your RMSProp and Adam implementations, run the following to train a pair of deep networks using these new update rules:"
   ]
  },
  {
   "cell_type": "code",
   "execution_count": null,
   "metadata": {
    "collapsed": false
   },
   "outputs": [],
   "source": [
    "learning_rates = {'rmsprop': 1e-4, 'adam': 1e-3}\n",
    "for update_rule in ['adam', 'rmsprop']:\n",
    "  print 'running with ', update_rule\n",
    "  model = FullyConnectedNet([100, 100, 100, 100, 100], weight_scale=5e-2)\n",
    "\n",
    "  solver = Solver(model, small_data,\n",
    "                  num_epochs=5, batch_size=100,\n",
    "                  update_rule=update_rule,\n",
    "                  optim_config={\n",
    "                    'learning_rate': learning_rates[update_rule]\n",
    "                  },\n",
    "                  verbose=True)\n",
    "  solvers[update_rule] = solver\n",
    "  solver.train()\n",
    "  print\n",
    "\n",
    "plt.subplot(3, 1, 1)\n",
    "plt.title('Training loss')\n",
    "plt.xlabel('Iteration')\n",
    "\n",
    "plt.subplot(3, 1, 2)\n",
    "plt.title('Training accuracy')\n",
    "plt.xlabel('Epoch')\n",
    "\n",
    "plt.subplot(3, 1, 3)\n",
    "plt.title('Validation accuracy')\n",
    "plt.xlabel('Epoch')\n",
    "\n",
    "for update_rule, solver in solvers.iteritems():\n",
    "  plt.subplot(3, 1, 1)\n",
    "  plt.plot(solver.loss_history, 'o', label=update_rule)\n",
    "  \n",
    "  plt.subplot(3, 1, 2)\n",
    "  plt.plot(solver.train_acc_history, '-o', label=update_rule)\n",
    "\n",
    "  plt.subplot(3, 1, 3)\n",
    "  plt.plot(solver.val_acc_history, '-o', label=update_rule)\n",
    "  \n",
    "for i in [1, 2, 3]:\n",
    "  plt.subplot(3, 1, i)\n",
    "  plt.legend(loc='upper center', ncol=4)\n",
    "plt.gcf().set_size_inches(15, 15)\n",
    "plt.show()"
   ]
  },
  {
   "cell_type": "markdown",
   "metadata": {},
   "source": [
    "# Train a good model!\n",
    "Train the best fully-connected model that you can on CIFAR-10, storing your best model in the `best_model` variable. We require you to get at least 50% accuracy on the validation set using a fully-connected net.\n",
    "\n",
    "If you are careful it should be possible to get accuracies above 55%, but we don't require it for this part and won't assign extra credit for doing so. Later in the assignment we will ask you to train the best convolutional network that you can on CIFAR-10, and we would prefer that you spend your effort working on convolutional nets rather than fully-connected nets.\n",
    "\n",
    "You might find it useful to complete the `BatchNormalization.ipynb` and `Dropout.ipynb` notebooks before completing this part, since those techniques can help you train powerful models."
   ]
  },
  {
   "cell_type": "code",
   "execution_count": null,
   "metadata": {
    "collapsed": false,
    "scrolled": false
   },
   "outputs": [],
   "source": [
    "best_model = None\n",
    "################################################################################\n",
    "# TODO: Train the best FullyConnectedNet that you can on CIFAR-10. You might   #\n",
    "# batch normalization and dropout useful. Store your best model in the         #\n",
    "# best_model variable.                                                         #\n",
    "################################################################################\n",
    "pass\n",
    "################################################################################\n",
    "#                              END OF YOUR CODE                                #\n",
    "################################################################################"
   ]
  },
  {
   "cell_type": "markdown",
   "metadata": {},
   "source": [
    "# Test you model\n",
    "Run your best model on the validation and test sets. You should achieve above 50% accuracy on the validation set."
   ]
  },
  {
   "cell_type": "code",
   "execution_count": null,
   "metadata": {
    "collapsed": false
   },
   "outputs": [],
   "source": [
    "y_test_pred = np.argmax(best_model.loss(X_test), axis=1)\n",
    "y_val_pred = np.argmax(best_model.loss(X_val), axis=1)\n",
    "print 'Validation set accuracy: ', (y_val_pred == y_val).mean()\n",
    "print 'Test set accuracy: ', (y_test_pred == y_test).mean()"
   ]
  }
 ],
 "metadata": {
  "kernelspec": {
   "display_name": "Python 2",
   "language": "python",
   "name": "python2"
  },
  "language_info": {
   "codemirror_mode": {
    "name": "ipython",
    "version": 2
   },
   "file_extension": ".py",
   "mimetype": "text/x-python",
   "name": "python",
   "nbconvert_exporter": "python",
   "pygments_lexer": "ipython2",
   "version": "2.7.11"
  }
 },
 "nbformat": 4,
 "nbformat_minor": 0
}
