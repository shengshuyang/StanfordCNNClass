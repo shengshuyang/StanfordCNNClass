{
 "cells": [
  {
   "cell_type": "markdown",
   "metadata": {},
   "source": [
    "# Fully-Connected Neural Nets\n",
    "In the previous homework you implemented a fully-connected two-layer neural network on CIFAR-10. The implementation was simple but not very modular since the loss and gradient were computed in a single monolithic function. This is manageable for a simple two-layer network, but would become impractical as we move to bigger models. Ideally we want to build networks using a more modular design so that we can implement different layer types in isolation and then snap them together into models with different architectures.\n",
    "\n",
    "In this exercise we will implement fully-connected networks using a more modular approach. For each layer we will implement a `forward` and a `backward` function. The `forward` function will receive inputs, weights, and other parameters and will return both an output and a `cache` object storing data needed for the backward pass, like this:\n",
    "\n",
    "```python\n",
    "def layer_forward(x, w):\n",
    "  \"\"\" Receive inputs x and weights w \"\"\"\n",
    "  # Do some computations ...\n",
    "  z = # ... some intermediate value\n",
    "  # Do some more computations ...\n",
    "  out = # the output\n",
    "   \n",
    "  cache = (x, w, z, out) # Values we need to compute gradients\n",
    "   \n",
    "  return out, cache\n",
    "```\n",
    "\n",
    "The backward pass will receive upstream derivatives and the `cache` object, and will return gradients with respect to the inputs and weights, like this:\n",
    "\n",
    "```python\n",
    "def layer_backward(dout, cache):\n",
    "  \"\"\"\n",
    "  Receive derivative of loss with respect to outputs and cache,\n",
    "  and compute derivative with respect to inputs.\n",
    "  \"\"\"\n",
    "  # Unpack cache values\n",
    "  x, w, z, out = cache\n",
    "  \n",
    "  # Use values in cache to compute derivatives\n",
    "  dx = # Derivative of loss with respect to x\n",
    "  dw = # Derivative of loss with respect to w\n",
    "  \n",
    "  return dx, dw\n",
    "```\n",
    "\n",
    "After implementing a bunch of layers this way, we will be able to easily combine them to build classifiers with different architectures.\n",
    "\n",
    "In addition to implementing fully-connected networks of arbitrary depth, we will also explore different update rules for optimization, and introduce Dropout as a regularizer and Batch Normalization as a tool to more efficiently optimize deep networks.\n",
    "  "
   ]
  },
  {
   "cell_type": "code",
   "execution_count": 2,
   "metadata": {
    "collapsed": false
   },
   "outputs": [
    {
     "name": "stdout",
     "output_type": "stream",
     "text": [
      "The autoreload extension is already loaded. To reload it, use:\n",
      "  %reload_ext autoreload\n"
     ]
    }
   ],
   "source": [
    "# As usual, a bit of setup\n",
    "\n",
    "import time\n",
    "import numpy as np\n",
    "import matplotlib.pyplot as plt\n",
    "from cs231n.classifiers.fc_net import *\n",
    "from cs231n.data_utils import get_CIFAR10_data\n",
    "from cs231n.gradient_check import eval_numerical_gradient, eval_numerical_gradient_array\n",
    "from cs231n.solver import Solver\n",
    "\n",
    "%matplotlib inline\n",
    "plt.rcParams['figure.figsize'] = (10.0, 8.0) # set default size of plots\n",
    "plt.rcParams['image.interpolation'] = 'nearest'\n",
    "plt.rcParams['image.cmap'] = 'gray'\n",
    "\n",
    "# for auto-reloading external modules\n",
    "# see http://stackoverflow.com/questions/1907993/autoreload-of-modules-in-ipython\n",
    "%load_ext autoreload\n",
    "%autoreload 2\n",
    "\n",
    "def rel_error(x, y):\n",
    "  \"\"\" returns relative error \"\"\"\n",
    "  return np.max(np.abs(x - y) / (np.maximum(1e-8, np.abs(x) + np.abs(y))))"
   ]
  },
  {
   "cell_type": "code",
   "execution_count": 3,
   "metadata": {
    "collapsed": false
   },
   "outputs": [
    {
     "name": "stdout",
     "output_type": "stream",
     "text": [
      "X_val:  (1000L, 3L, 32L, 32L)\n",
      "X_train:  (49000L, 3L, 32L, 32L)\n",
      "X_test:  (1000L, 3L, 32L, 32L)\n",
      "y_val:  (1000L,)\n",
      "y_train:  (49000L,)\n",
      "y_test:  (1000L,)\n"
     ]
    }
   ],
   "source": [
    "# Load the (preprocessed) CIFAR10 data.\n",
    "\n",
    "data = get_CIFAR10_data()\n",
    "for k, v in data.iteritems():\n",
    "  print '%s: ' % k, v.shape"
   ]
  },
  {
   "cell_type": "code",
   "execution_count": 8,
   "metadata": {
    "collapsed": false
   },
   "outputs": [
    {
     "name": "stdout",
     "output_type": "stream",
     "text": [
      "(1000L, 3L, 32L, 32L)\n"
     ]
    },
    {
     "data": {
      "image/png": "[encoded data removed]",
      "text/plain": [
       "<matplotlib.figure.Figure at 0x16dd0828>"
      ]
     },
     "metadata": {},
     "output_type": "display_data"
    }
   ],
   "source": [
    "X_val = data['X_val']\n",
    "print X_val.shape\n",
    "plt.imshow(X_val[50,1,:,:])\n",
    "plt.show()"
   ]
  },
  {
   "cell_type": "markdown",
   "metadata": {},
   "source": [
    "# Affine layer: foward\n",
    "Open the file `cs231n/layers.py` and implement the `affine_forward` function.\n",
    "\n",
    "Once you are done you can test your implementaion by running the following:"
   ]
  },
  {
   "cell_type": "code",
   "execution_count": 9,
   "metadata": {
    "collapsed": false
   },
   "outputs": [
    {
     "name": "stdout",
     "output_type": "stream",
     "text": [
      "Testing affine_forward function:\n",
      "difference:  9.76985004799e-10\n"
     ]
    }
   ],
   "source": [
    "# Test the affine_forward function\n",
    "\n",
    "num_inputs = 2\n",
    "input_shape = (4, 5, 6)\n",
    "output_dim = 3\n",
    "\n",
    "input_size = num_inputs * np.prod(input_shape)\n",
    "weight_size = output_dim * np.prod(input_shape)\n",
    "\n",
    "x = np.linspace(-0.1, 0.5, num=input_size).reshape(num_inputs, *input_shape)\n",
    "w = np.linspace(-0.2, 0.3, num=weight_size).reshape(np.prod(input_shape), output_dim)\n",
    "b = np.linspace(-0.3, 0.1, num=output_dim)\n",
    "\n",
    "out, _ = affine_forward(x, w, b)\n",
    "correct_out = np.array([[ 1.49834967,  1.70660132,  1.91485297],\n",
    "                        [ 3.25553199,  3.5141327,   3.77273342]])\n",
    "\n",
    "# Compare your output with ours. The error should be around 1e-9.\n",
    "print 'Testing affine_forward function:'\n",
    "print 'difference: ', rel_error(out, correct_out)"
   ]
  },
  {
   "cell_type": "markdown",
   "metadata": {},
   "source": [
    "# Affine layer: backward\n",
    "Now implement the `affine_backward` function and test your implementation using numeric gradient checking."
   ]
  },
  {
   "cell_type": "code",
   "execution_count": 15,
   "metadata": {
    "collapsed": false
   },
   "outputs": [
    {
     "name": "stdout",
     "output_type": "stream",
     "text": [
      " Testing affine_backward function:\n",
      "dx error:  1.62849733013e-10\n",
      "dw error:  8.04684403411e-11\n",
      "db error:  6.69251607686e-12\n"
     ]
    }
   ],
   "source": [
    "# Test the affine_backward function\n",
    "\n",
    "x = np.random.randn(10, 2, 3)\n",
    "w = np.random.randn(6, 5)\n",
    "b = np.random.randn(5)\n",
    "dout = np.random.randn(10, 5)\n",
    "\n",
    "dx_num = eval_numerical_gradient_array(lambda x: affine_forward(x, w, b)[0], x, dout)\n",
    "dw_num = eval_numerical_gradient_array(lambda w: affine_forward(x, w, b)[0], w, dout)\n",
    "db_num = eval_numerical_gradient_array(lambda b: affine_forward(x, w, b)[0], b, dout)\n",
    "\n",
    "_, cache = affine_forward(x, w, b)\n",
    "\n",
    "len(cache[0])\n",
    "\n",
    "dx, dw, db = affine_backward(dout, cache)\n",
    "\n",
    "# The error should be around 1e-10\n",
    "print 'Testing affine_backward function:'\n",
    "print 'dx error: ', rel_error(dx_num, dx)\n",
    "print 'dw error: ', rel_error(dw_num, dw)\n",
    "print 'db error: ', rel_error(db_num, db)"
   ]
  },
  {
   "cell_type": "markdown",
   "metadata": {},
   "source": [
    "# ReLU layer: forward\n",
    "Implement the forward pass for the ReLU activation function in the `relu_forward` function and test your implementation using the following:"
   ]
  },
  {
   "cell_type": "code",
   "execution_count": 18,
   "metadata": {
    "collapsed": false
   },
   "outputs": [
    {
     "name": "stdout",
     "output_type": "stream",
     "text": [
      "Testing relu_forward function:\n",
      "difference:  4.99999979802e-08\n"
     ]
    }
   ],
   "source": [
    "# Test the relu_forward function\n",
    "\n",
    "x = np.linspace(-0.5, 0.5, num=12).reshape(3, 4)\n",
    "\n",
    "out, _ = relu_forward(x)\n",
    "correct_out = np.array([[ 0.,          0.,          0.,          0.,        ],\n",
    "                        [ 0.,          0.,          0.04545455,  0.13636364,],\n",
    "                        [ 0.22727273,  0.31818182,  0.40909091,  0.5,       ]])\n",
    "\n",
    "# Compare your output with ours. The error should be around 1e-8\n",
    "print 'Testing relu_forward function:'\n",
    "print 'difference: ', rel_error(out, correct_out)"
   ]
  },
  {
   "cell_type": "markdown",
   "metadata": {},
   "source": [
    "# ReLU layer: backward\n",
    "Now implement the backward pass for the ReLU activation function in the `relu_backward` function and test your implementation using numeric gradient checking:"
   ]
  },
  {
   "cell_type": "code",
   "execution_count": 27,
   "metadata": {
    "collapsed": false
   },
   "outputs": [
    {
     "name": "stdout",
     "output_type": "stream",
     "text": [
      "Testing relu_backward function:\n",
      "dx error:  3.27560920357e-12\n"
     ]
    }
   ],
   "source": [
    "x = np.random.randn(10, 10)\n",
    "dout = np.random.randn(*x.shape)\n",
    "\n",
    "dx_num = eval_numerical_gradient_array(lambda x: relu_forward(x)[0], x, dout)\n",
    "\n",
    "_, cache = relu_forward(x)\n",
    "dx = relu_backward(dout, cache)\n",
    "\n",
    "# The error should be around 1e-12\n",
    "print 'Testing relu_backward function:'\n",
    "print 'dx error: ', rel_error(dx_num, dx)"
   ]
  },
  {
   "cell_type": "markdown",
   "metadata": {},
   "source": [
    "# \"Sandwich\" layers\n",
    "There are some common patterns of layers that are frequently used in neural nets. For example, affine layers are frequently followed by a ReLU nonlinearity. To make these common patterns easy, we define several convenience layers in the file `cs231n/layer_utils.py`.\n",
    "\n",
    "For now take a look at the `affine_relu_forward` and `affine_relu_backward` functions, and run the following to numerically gradient check the backward pass:"
   ]
  },
  {
   "cell_type": "code",
   "execution_count": 46,
   "metadata": {
    "collapsed": false
   },
   "outputs": [
    {
     "name": "stdout",
     "output_type": "stream",
     "text": [
      "Testing affine_relu_forward:\n",
      "dx error:  4.31694327078e-10\n",
      "dw error:  1.81208550801e-10\n",
      "db error:  1.15830192534e-11\n"
     ]
    }
   ],
   "source": [
    "from cs231n.layer_utils import affine_relu_forward, affine_relu_backward\n",
    "\n",
    "x = np.random.randn(2, 3, 4)\n",
    "w = np.random.randn(12, 10)\n",
    "b = np.random.randn(10)\n",
    "dout = np.random.randn(2, 10)\n",
    "\n",
    "out, cache = affine_relu_forward(x, w, b)\n",
    "dx, dw, db = affine_relu_backward(dout, cache)\n",
    "\n",
    "dx_num = eval_numerical_gradient_array(lambda x: affine_relu_forward(x, w, b)[0], x, dout)\n",
    "dw_num = eval_numerical_gradient_array(lambda w: affine_relu_forward(x, w, b)[0], w, dout)\n",
    "db_num = eval_numerical_gradient_array(lambda b: affine_relu_forward(x, w, b)[0], b, dout)\n",
    "\n",
    "print 'Testing affine_relu_forward:'\n",
    "print 'dx error: ', rel_error(dx_num, dx)\n",
    "print 'dw error: ', rel_error(dw_num, dw)\n",
    "print 'db error: ', rel_error(db_num, db)"
   ]
  },
  {
   "cell_type": "markdown",
   "metadata": {},
   "source": [
    "# Loss layers: Softmax and SVM\n",
    "You implemented these loss functions in the last assignment, so we'll give them to you for free here. You should still make sure you understand how they work by looking at the implementations in `cs231n/layers.py`.\n",
    "\n",
    "You can make sure that the implementations are correct by running the following:"
   ]
  },
  {
   "cell_type": "code",
   "execution_count": 57,
   "metadata": {
    "collapsed": false
   },
   "outputs": [
    {
     "name": "stdout",
     "output_type": "stream",
     "text": [
      "Testing svm_loss:\n",
      "loss:  9.0001036815\n",
      "dx error:  1.40215660067e-09\n",
      "\n",
      "Testing softmax_loss:\n",
      "loss:  2.30259594556\n",
      "dx error:  8.53284931909e-09\n"
     ]
    }
   ],
   "source": [
    "num_classes, num_inputs = 10, 50\n",
    "x = 0.001 * np.random.randn(num_inputs, num_classes)\n",
    "y = np.random.randint(num_classes, size=num_inputs)\n",
    "\n",
    "dx_num = eval_numerical_gradient(lambda x: svm_loss(x, y)[0], x, verbose=False)\n",
    "loss, dx = svm_loss(x, y)\n",
    "\n",
    "# Test svm_loss function. Loss should be around 9 and dx error should be 1e-9\n",
    "print 'Testing svm_loss:'\n",
    "print 'loss: ', loss\n",
    "print 'dx error: ', rel_error(dx_num, dx)\n",
    "\n",
    "dx_num = eval_numerical_gradient(lambda x: softmax_loss(x, y)[0], x, verbose=False)\n",
    "loss, dx = softmax_loss(x, y)\n",
    "\n",
    "# Test softmax_loss function. Loss should be 2.3 and dx error should be 1e-8\n",
    "print '\\nTesting softmax_loss:'\n",
    "print 'loss: ', loss\n",
    "print 'dx error: ', rel_error(dx_num, dx)"
   ]
  },
  {
   "cell_type": "markdown",
   "metadata": {},
   "source": [
    "# Two-layer network\n",
    "In the previous assignment you implemented a two-layer neural network in a single monolithic class. Now that you have implemented modular versions of the necessary layers, you will reimplement the two layer network using these modular implementations.\n",
    "\n",
    "Open the file `cs231n/classifiers/fc_net.py` and complete the implementation of the `TwoLayerNet` class. This class will serve as a model for the other networks you will implement in this assignment, so read through it to make sure you understand the API. You can run the cell below to test your implementation."
   ]
  },
  {
   "cell_type": "code",
   "execution_count": 70,
   "metadata": {
    "collapsed": false
   },
   "outputs": [
    {
     "name": "stdout",
     "output_type": "stream",
     "text": [
      "Testing initialization ... \n",
      "Testing test-time forward pass ... \n",
      "Testing training loss (no regularization)\n",
      "Running numeric gradient check with reg =  0.0\n",
      "W1 relative error: 1.52e-08\n",
      "W2 relative error: 3.30e-10\n",
      "b1 relative error: 8.37e-09\n",
      "b2 relative error: 2.14e-10\n",
      "Running numeric gradient check with reg =  0.5\n",
      "W1 relative error: 3.88e-08\n",
      "W2 relative error: 9.57e-09\n",
      "b1 relative error: 8.37e-09\n",
      "b2 relative error: 7.76e-10\n",
      "Running numeric gradient check with reg =  0.7\n",
      "W1 relative error: 2.53e-07\n",
      "W2 relative error: 2.85e-08\n",
      "b1 relative error: 1.56e-08\n",
      "b2 relative error: 9.09e-10\n"
     ]
    }
   ],
   "source": [
    "N, D, H, C = 3, 5, 50, 7\n",
    "X = np.random.randn(N, D)\n",
    "y = np.random.randint(C, size=N)\n",
    "\n",
    "std = 1e-2\n",
    "model = TwoLayerNet(input_dim=D, hidden_dim=H, num_classes=C, weight_scale=std)\n",
    "\n",
    "print 'Testing initialization ... '\n",
    "W1_std = abs(model.params['W1'].std() - std)\n",
    "b1 = model.params['b1']\n",
    "W2_std = abs(model.params['W2'].std() - std)\n",
    "b2 = model.params['b2']\n",
    "assert W1_std < std / 10, 'First layer weights do not seem right'\n",
    "assert np.all(b1 == 0), 'First layer biases do not seem right'\n",
    "assert W2_std < std / 10, 'Second layer weights do not seem right'\n",
    "assert np.all(b2 == 0), 'Second layer biases do not seem right'\n",
    "\n",
    "print 'Testing test-time forward pass ... '\n",
    "model.params['W1'] = np.linspace(-0.7, 0.3, num=D*H).reshape(D, H)\n",
    "model.params['b1'] = np.linspace(-0.1, 0.9, num=H)\n",
    "model.params['W2'] = np.linspace(-0.3, 0.4, num=H*C).reshape(H, C)\n",
    "model.params['b2'] = np.linspace(-0.9, 0.1, num=C)\n",
    "X = np.linspace(-5.5, 4.5, num=N*D).reshape(D, N).T\n",
    "scores = model.loss(X)\n",
    "correct_scores = np.asarray(\n",
    "  [[11.53165108,  12.2917344,   13.05181771,  13.81190102,  14.57198434, 15.33206765,  16.09215096],\n",
    "   [12.05769098,  12.74614105,  13.43459113,  14.1230412,   14.81149128, 15.49994135,  16.18839143],\n",
    "   [12.58373087,  13.20054771,  13.81736455,  14.43418138,  15.05099822, 15.66781506,  16.2846319 ]])\n",
    "scores_diff = np.abs(scores - correct_scores).sum()\n",
    "assert scores_diff < 1e-6, 'Problem with test-time forward pass'\n",
    "\n",
    "print 'Testing training loss (no regularization)'\n",
    "y = np.asarray([0, 5, 1])\n",
    "loss, grads = model.loss(X, y)\n",
    "correct_loss = 3.4702243556\n",
    "assert abs(loss - correct_loss) < 1e-10, 'Problem with training-time loss'\n",
    "\n",
    "model.reg = 1.0\n",
    "loss, grads = model.loss(X, y)\n",
    "correct_loss = 26.5948426952\n",
    "assert abs(loss - correct_loss) < 1e-10, 'Problem with regularization loss'\n",
    "\n",
    "for reg in [0.0, 0.5, 0.7]:\n",
    "  print 'Running numeric gradient check with reg = ', reg\n",
    "  model.reg = reg\n",
    "  loss, grads = model.loss(X, y)\n",
    "\n",
    "  for name in sorted(grads):\n",
    "    f = lambda _: model.loss(X, y)[0]\n",
    "    grad_num = eval_numerical_gradient(f, model.params[name], verbose=False)\n",
    "    print '%s relative error: %.2e' % (name, rel_error(grad_num, grads[name]))"
   ]
  },
  {
   "cell_type": "markdown",
   "metadata": {},
   "source": [
    "# Solver\n",
    "In the previous assignment, the logic for training models was coupled to the models themselves. Following a more modular design, for this assignment we have split the logic for training models into a separate class.\n",
    "\n",
    "Open the file `cs231n/solver.py` and read through it to familiarize yourself with the API. After doing so, use a `Solver` instance to train a `TwoLayerNet` that achieves at least `50%` accuracy on the validation set."
   ]
  },
  {
   "cell_type": "code",
   "execution_count": 131,
   "metadata": {
    "collapsed": false
   },
   "outputs": [
    {
     "name": "stdout",
     "output_type": "stream",
     "text": [
      "(Iteration 1 / 4900) loss: 6.161561\n",
      "(Epoch 0 / 10) train acc: 0.147000; val_acc: 0.166000\n",
      "(Iteration 11 / 4900) loss: 5.226229\n",
      "(Iteration 21 / 4900) loss: 4.493557\n",
      "(Iteration 31 / 4900) loss: 4.447688\n",
      "(Iteration 41 / 4900) loss: 4.388063\n",
      "(Iteration 51 / 4900) loss: 4.503306\n",
      "(Iteration 61 / 4900) loss: 4.096310\n",
      "(Iteration 71 / 4900) loss: 4.180124\n",
      "(Iteration 81 / 4900) loss: 4.042643\n",
      "(Iteration 91 / 4900) loss: 4.207388\n",
      "(Iteration 101 / 4900) loss: 4.084133\n",
      "(Iteration 111 / 4900) loss: 4.156201\n",
      "(Iteration 121 / 4900) loss: 3.933756\n",
      "(Iteration 131 / 4900) loss: 4.130824\n",
      "(Iteration 141 / 4900) loss: 4.072984\n",
      "(Iteration 151 / 4900) loss: 4.109743\n",
      "(Iteration 161 / 4900) loss: 3.975071\n",
      "(Iteration 171 / 4900) loss: 4.020303\n",
      "(Iteration 181 / 4900) loss: 3.905430\n",
      "(Iteration 191 / 4900) loss: 4.002517\n",
      "(Iteration 201 / 4900) loss: 4.094526\n",
      "(Iteration 211 / 4900) loss: 3.824131\n",
      "(Iteration 221 / 4900) loss: 3.971845\n",
      "(Iteration 231 / 4900) loss: 3.797833\n",
      "(Iteration 241 / 4900) loss: 3.964807\n",
      "(Iteration 251 / 4900) loss: 3.807879\n",
      "(Iteration 261 / 4900) loss: 3.920546\n",
      "(Iteration 271 / 4900) loss: 3.871514\n",
      "(Iteration 281 / 4900) loss: 3.861463\n",
      "(Iteration 291 / 4900) loss: 3.784591\n",
      "(Iteration 301 / 4900) loss: 3.782769\n",
      "(Iteration 311 / 4900) loss: 3.931497\n",
      "(Iteration 321 / 4900) loss: 3.817891\n",
      "(Iteration 331 / 4900) loss: 3.793492\n",
      "(Iteration 341 / 4900) loss: 3.838926\n",
      "(Iteration 351 / 4900) loss: 3.752011\n",
      "(Iteration 361 / 4900) loss: 3.869884\n",
      "(Iteration 371 / 4900) loss: 3.923924\n",
      "(Iteration 381 / 4900) loss: 3.717800\n",
      "(Iteration 391 / 4900) loss: 3.743522\n",
      "(Iteration 401 / 4900) loss: 3.764492\n",
      "(Iteration 411 / 4900) loss: 3.751559\n",
      "(Iteration 421 / 4900) loss: 3.660620\n",
      "(Iteration 431 / 4900) loss: 3.662555\n",
      "(Iteration 441 / 4900) loss: 3.565127\n",
      "(Iteration 451 / 4900) loss: 3.732581\n",
      "(Iteration 461 / 4900) loss: 3.660154\n",
      "(Iteration 471 / 4900) loss: 3.541308\n",
      "(Iteration 481 / 4900) loss: 3.941487\n",
      "(Epoch 1 / 10) train acc: 0.449000; val_acc: 0.417000\n",
      "(Iteration 491 / 4900) loss: 3.679340\n",
      "(Iteration 501 / 4900) loss: 3.448262\n",
      "(Iteration 511 / 4900) loss: 3.445823\n",
      "(Iteration 521 / 4900) loss: 3.653045\n",
      "(Iteration 531 / 4900) loss: 3.752701\n",
      "(Iteration 541 / 4900) loss: 3.568895\n",
      "(Iteration 551 / 4900) loss: 3.452470\n",
      "(Iteration 561 / 4900) loss: 3.759615\n",
      "(Iteration 571 / 4900) loss: 3.744656\n",
      "(Iteration 581 / 4900) loss: 3.664939\n",
      "(Iteration 591 / 4900) loss: 3.509245\n",
      "(Iteration 601 / 4900) loss: 3.661779\n",
      "(Iteration 611 / 4900) loss: 3.673491\n",
      "(Iteration 621 / 4900) loss: 3.723738\n",
      "(Iteration 631 / 4900) loss: 3.567807\n",
      "(Iteration 641 / 4900) loss: 3.547060\n",
      "(Iteration 651 / 4900) loss: 3.556738\n",
      "(Iteration 661 / 4900) loss: 3.617375\n",
      "(Iteration 671 / 4900) loss: 3.609141\n",
      "(Iteration 681 / 4900) loss: 3.486257\n",
      "(Iteration 691 / 4900) loss: 3.633644\n",
      "(Iteration 701 / 4900) loss: 3.366938\n",
      "(Iteration 711 / 4900) loss: 3.327144\n",
      "(Iteration 721 / 4900) loss: 3.581618\n",
      "(Iteration 731 / 4900) loss: 3.145493\n",
      "(Iteration 741 / 4900) loss: 3.472348\n",
      "(Iteration 751 / 4900) loss: 3.290823\n",
      "(Iteration 761 / 4900) loss: 3.422938\n",
      "(Iteration 771 / 4900) loss: 3.469964\n",
      "(Iteration 781 / 4900) loss: 3.613385\n",
      "(Iteration 791 / 4900) loss: 3.454576\n",
      "(Iteration 801 / 4900) loss: 3.392685\n",
      "(Iteration 811 / 4900) loss: 3.259003\n",
      "(Iteration 821 / 4900) loss: 3.382918\n",
      "(Iteration 831 / 4900) loss: 3.571289\n",
      "(Iteration 841 / 4900) loss: 3.470121\n",
      "(Iteration 851 / 4900) loss: 3.414798\n",
      "(Iteration 861 / 4900) loss: 3.665198\n",
      "(Iteration 871 / 4900) loss: 3.170541\n",
      "(Iteration 881 / 4900) loss: 3.211035\n",
      "(Iteration 891 / 4900) loss: 3.497561\n",
      "(Iteration 901 / 4900) loss: 3.313059\n",
      "(Iteration 911 / 4900) loss: 3.442457\n",
      "(Iteration 921 / 4900) loss: 3.289935\n",
      "(Iteration 931 / 4900) loss: 3.363760\n",
      "(Iteration 941 / 4900) loss: 3.244955\n",
      "(Iteration 951 / 4900) loss: 3.245352\n",
      "(Iteration 961 / 4900) loss: 3.138737\n",
      "(Iteration 971 / 4900) loss: 3.262335\n",
      "(Epoch 2 / 10) train acc: 0.480000; val_acc: 0.437000\n",
      "(Iteration 981 / 4900) loss: 3.208585\n",
      "(Iteration 991 / 4900) loss: 3.137513\n",
      "(Iteration 1001 / 4900) loss: 3.255963\n",
      "(Iteration 1011 / 4900) loss: 3.326017\n",
      "(Iteration 1021 / 4900) loss: 3.311910\n",
      "(Iteration 1031 / 4900) loss: 3.085608\n",
      "(Iteration 1041 / 4900) loss: 3.103341\n",
      "(Iteration 1051 / 4900) loss: 3.221740\n",
      "(Iteration 1061 / 4900) loss: 3.333175\n",
      "(Iteration 1071 / 4900) loss: 3.221846\n",
      "(Iteration 1081 / 4900) loss: 3.167392\n",
      "(Iteration 1091 / 4900) loss: 3.209928\n",
      "(Iteration 1101 / 4900) loss: 3.198673\n",
      "(Iteration 1111 / 4900) loss: 3.228291\n",
      "(Iteration 1121 / 4900) loss: 3.016689\n",
      "(Iteration 1131 / 4900) loss: 3.247749\n",
      "(Iteration 1141 / 4900) loss: 3.328591\n",
      "(Iteration 1151 / 4900) loss: 3.264668\n",
      "(Iteration 1161 / 4900) loss: 3.460872\n",
      "(Iteration 1171 / 4900) loss: 3.286902\n",
      "(Iteration 1181 / 4900) loss: 3.156144\n",
      "(Iteration 1191 / 4900) loss: 3.186739\n",
      "(Iteration 1201 / 4900) loss: 3.214507\n",
      "(Iteration 1211 / 4900) loss: 3.055412\n",
      "(Iteration 1221 / 4900) loss: 3.292970\n",
      "(Iteration 1231 / 4900) loss: 3.163111\n",
      "(Iteration 1241 / 4900) loss: 3.020453\n",
      "(Iteration 1251 / 4900) loss: 3.212817\n",
      "(Iteration 1261 / 4900) loss: 3.164322\n",
      "(Iteration 1271 / 4900) loss: 3.095439\n",
      "(Iteration 1281 / 4900) loss: 3.168910\n",
      "(Iteration 1291 / 4900) loss: 3.200251\n",
      "(Iteration 1301 / 4900) loss: 3.161421\n",
      "(Iteration 1311 / 4900) loss: 3.226518\n",
      "(Iteration 1321 / 4900) loss: 3.235740\n",
      "(Iteration 1331 / 4900) loss: 3.111072\n",
      "(Iteration 1341 / 4900) loss: 3.209434\n",
      "(Iteration 1351 / 4900) loss: 3.194133\n",
      "(Iteration 1361 / 4900) loss: 3.204604\n",
      "(Iteration 1371 / 4900) loss: 2.890562\n",
      "(Iteration 1381 / 4900) loss: 3.099891\n",
      "(Iteration 1391 / 4900) loss: 3.048170\n",
      "(Iteration 1401 / 4900) loss: 2.954596\n",
      "(Iteration 1411 / 4900) loss: 3.287724\n",
      "(Iteration 1421 / 4900) loss: 3.038023\n",
      "(Iteration 1431 / 4900) loss: 3.038979\n",
      "(Iteration 1441 / 4900) loss: 2.820417\n",
      "(Iteration 1451 / 4900) loss: 3.205740\n",
      "(Iteration 1461 / 4900) loss: 2.979547\n",
      "(Epoch 3 / 10) train acc: 0.452000; val_acc: 0.455000\n",
      "(Iteration 1471 / 4900) loss: 3.086223\n",
      "(Iteration 1481 / 4900) loss: 3.062824\n",
      "(Iteration 1491 / 4900) loss: 2.930546\n",
      "(Iteration 1501 / 4900) loss: 2.849345\n",
      "(Iteration 1511 / 4900) loss: 3.115133\n",
      "(Iteration 1521 / 4900) loss: 2.941584\n",
      "(Iteration 1531 / 4900) loss: 3.088508\n",
      "(Iteration 1541 / 4900) loss: 3.138118\n",
      "(Iteration 1551 / 4900) loss: 2.918837\n",
      "(Iteration 1561 / 4900) loss: 3.071197\n",
      "(Iteration 1571 / 4900) loss: 2.940875\n",
      "(Iteration 1581 / 4900) loss: 3.170576\n",
      "(Iteration 1591 / 4900) loss: 2.860576\n",
      "(Iteration 1601 / 4900) loss: 2.981578\n",
      "(Iteration 1611 / 4900) loss: 2.996506\n",
      "(Iteration 1621 / 4900) loss: 2.989998\n",
      "(Iteration 1631 / 4900) loss: 2.881588\n",
      "(Iteration 1641 / 4900) loss: 2.778850\n",
      "(Iteration 1651 / 4900) loss: 2.895277\n",
      "(Iteration 1661 / 4900) loss: 3.061640\n",
      "(Iteration 1671 / 4900) loss: 2.919709\n",
      "(Iteration 1681 / 4900) loss: 3.073358\n",
      "(Iteration 1691 / 4900) loss: 2.947204\n",
      "(Iteration 1701 / 4900) loss: 2.976071\n",
      "(Iteration 1711 / 4900) loss: 2.779978\n",
      "(Iteration 1721 / 4900) loss: 2.945719\n",
      "(Iteration 1731 / 4900) loss: 3.013956\n",
      "(Iteration 1741 / 4900) loss: 2.936106\n",
      "(Iteration 1751 / 4900) loss: 2.894037\n",
      "(Iteration 1761 / 4900) loss: 3.126018\n",
      "(Iteration 1771 / 4900) loss: 2.859854\n",
      "(Iteration 1781 / 4900) loss: 2.786846\n",
      "(Iteration 1791 / 4900) loss: 2.743120\n",
      "(Iteration 1801 / 4900) loss: 2.742023\n",
      "(Iteration 1811 / 4900) loss: 2.814835\n",
      "(Iteration 1821 / 4900) loss: 2.940346\n",
      "(Iteration 1831 / 4900) loss: 2.748445\n",
      "(Iteration 1841 / 4900) loss: 2.908289\n",
      "(Iteration 1851 / 4900) loss: 3.030368\n",
      "(Iteration 1861 / 4900) loss: 2.797012\n",
      "(Iteration 1871 / 4900) loss: 2.878554\n",
      "(Iteration 1881 / 4900) loss: 2.827340\n",
      "(Iteration 1891 / 4900) loss: 2.695533\n",
      "(Iteration 1901 / 4900) loss: 2.683025\n",
      "(Iteration 1911 / 4900) loss: 2.748055\n",
      "(Iteration 1921 / 4900) loss: 2.872308\n",
      "(Iteration 1931 / 4900) loss: 2.830727\n",
      "(Iteration 1941 / 4900) loss: 2.650812\n",
      "(Iteration 1951 / 4900) loss: 2.718481\n",
      "(Epoch 4 / 10) train acc: 0.494000; val_acc: 0.468000\n",
      "(Iteration 1961 / 4900) loss: 2.954072\n",
      "(Iteration 1971 / 4900) loss: 2.779157\n",
      "(Iteration 1981 / 4900) loss: 2.658931\n",
      "(Iteration 1991 / 4900) loss: 2.997136\n",
      "(Iteration 2001 / 4900) loss: 2.746612\n",
      "(Iteration 2011 / 4900) loss: 2.688513\n",
      "(Iteration 2021 / 4900) loss: 2.894400\n",
      "(Iteration 2031 / 4900) loss: 2.928543\n",
      "(Iteration 2041 / 4900) loss: 2.781881\n",
      "(Iteration 2051 / 4900) loss: 2.750266\n",
      "(Iteration 2061 / 4900) loss: 2.827020\n",
      "(Iteration 2071 / 4900) loss: 2.856569\n",
      "(Iteration 2081 / 4900) loss: 2.933946\n",
      "(Iteration 2091 / 4900) loss: 2.548554\n",
      "(Iteration 2101 / 4900) loss: 2.604261\n",
      "(Iteration 2111 / 4900) loss: 2.832344\n",
      "(Iteration 2121 / 4900) loss: 2.637444\n",
      "(Iteration 2131 / 4900) loss: 2.449783\n",
      "(Iteration 2141 / 4900) loss: 2.549834\n",
      "(Iteration 2151 / 4900) loss: 2.730591\n",
      "(Iteration 2161 / 4900) loss: 2.615573\n",
      "(Iteration 2171 / 4900) loss: 2.677224\n",
      "(Iteration 2181 / 4900) loss: 2.789051\n",
      "(Iteration 2191 / 4900) loss: 2.813251\n",
      "(Iteration 2201 / 4900) loss: 2.973732\n",
      "(Iteration 2211 / 4900) loss: 2.771585\n",
      "(Iteration 2221 / 4900) loss: 2.735266\n",
      "(Iteration 2231 / 4900) loss: 2.706138\n",
      "(Iteration 2241 / 4900) loss: 2.646980\n",
      "(Iteration 2251 / 4900) loss: 2.631632\n",
      "(Iteration 2261 / 4900) loss: 2.692552\n",
      "(Iteration 2271 / 4900) loss: 2.702142\n",
      "(Iteration 2281 / 4900) loss: 2.775129\n",
      "(Iteration 2291 / 4900) loss: 2.531914\n",
      "(Iteration 2301 / 4900) loss: 2.529918\n",
      "(Iteration 2311 / 4900) loss: 2.705194\n",
      "(Iteration 2321 / 4900) loss: 2.606402\n",
      "(Iteration 2331 / 4900) loss: 2.688745\n",
      "(Iteration 2341 / 4900) loss: 2.615801\n",
      "(Iteration 2351 / 4900) loss: 2.508102\n",
      "(Iteration 2361 / 4900) loss: 2.695232\n",
      "(Iteration 2371 / 4900) loss: 2.458294\n",
      "(Iteration 2381 / 4900) loss: 2.497279\n",
      "(Iteration 2391 / 4900) loss: 2.769356\n",
      "(Iteration 2401 / 4900) loss: 2.494107\n",
      "(Iteration 2411 / 4900) loss: 2.572872\n",
      "(Iteration 2421 / 4900) loss: 2.680546\n",
      "(Iteration 2431 / 4900) loss: 2.535190\n",
      "(Iteration 2441 / 4900) loss: 2.398430\n",
      "(Epoch 5 / 10) train acc: 0.514000; val_acc: 0.460000\n",
      "(Iteration 2451 / 4900) loss: 2.551938\n",
      "(Iteration 2461 / 4900) loss: 2.562226\n",
      "(Iteration 2471 / 4900) loss: 2.766930\n",
      "(Iteration 2481 / 4900) loss: 2.581057\n",
      "(Iteration 2491 / 4900) loss: 2.471606\n",
      "(Iteration 2501 / 4900) loss: 2.434874\n",
      "(Iteration 2511 / 4900) loss: 2.494208\n",
      "(Iteration 2521 / 4900) loss: 2.610950\n",
      "(Iteration 2531 / 4900) loss: 2.691131\n",
      "(Iteration 2541 / 4900) loss: 2.553968\n",
      "(Iteration 2551 / 4900) loss: 2.575953\n",
      "(Iteration 2561 / 4900) loss: 2.423904\n",
      "(Iteration 2571 / 4900) loss: 2.708154\n",
      "(Iteration 2581 / 4900) loss: 2.374744\n",
      "(Iteration 2591 / 4900) loss: 2.582946\n",
      "(Iteration 2601 / 4900) loss: 2.583989\n",
      "(Iteration 2611 / 4900) loss: 2.442444\n",
      "(Iteration 2621 / 4900) loss: 2.569706\n",
      "(Iteration 2631 / 4900) loss: 2.351735\n",
      "(Iteration 2641 / 4900) loss: 2.449212\n",
      "(Iteration 2651 / 4900) loss: 2.533747\n",
      "(Iteration 2661 / 4900) loss: 2.441335\n",
      "(Iteration 2671 / 4900) loss: 2.527933\n",
      "(Iteration 2681 / 4900) loss: 2.473026\n",
      "(Iteration 2691 / 4900) loss: 2.480593\n",
      "(Iteration 2701 / 4900) loss: 2.463928\n",
      "(Iteration 2711 / 4900) loss: 2.458210\n",
      "(Iteration 2721 / 4900) loss: 2.498999\n",
      "(Iteration 2731 / 4900) loss: 2.674067\n",
      "(Iteration 2741 / 4900) loss: 2.327484\n",
      "(Iteration 2751 / 4900) loss: 2.415916\n",
      "(Iteration 2761 / 4900) loss: 2.515427\n",
      "(Iteration 2771 / 4900) loss: 2.602653\n",
      "(Iteration 2781 / 4900) loss: 2.388487\n",
      "(Iteration 2791 / 4900) loss: 2.541095\n",
      "(Iteration 2801 / 4900) loss: 2.507104\n",
      "(Iteration 2811 / 4900) loss: 2.409786\n",
      "(Iteration 2821 / 4900) loss: 2.428912\n",
      "(Iteration 2831 / 4900) loss: 2.394762\n",
      "(Iteration 2841 / 4900) loss: 2.495678\n",
      "(Iteration 2851 / 4900) loss: 2.502789\n",
      "(Iteration 2861 / 4900) loss: 2.333677\n",
      "(Iteration 2871 / 4900) loss: 2.489066\n",
      "(Iteration 2881 / 4900) loss: 2.480332\n",
      "(Iteration 2891 / 4900) loss: 2.335426\n",
      "(Iteration 2901 / 4900) loss: 2.579005\n",
      "(Iteration 2911 / 4900) loss: 2.517488\n",
      "(Iteration 2921 / 4900) loss: 2.523355\n",
      "(Iteration 2931 / 4900) loss: 2.384964\n",
      "(Epoch 6 / 10) train acc: 0.452000; val_acc: 0.442000\n",
      "(Iteration 2941 / 4900) loss: 2.315838\n",
      "(Iteration 2951 / 4900) loss: 2.464468\n",
      "(Iteration 2961 / 4900) loss: 2.318438\n",
      "(Iteration 2971 / 4900) loss: 2.329752\n",
      "(Iteration 2981 / 4900) loss: 2.519775\n",
      "(Iteration 2991 / 4900) loss: 2.438850\n",
      "(Iteration 3001 / 4900) loss: 2.726752\n",
      "(Iteration 3011 / 4900) loss: 2.425949\n",
      "(Iteration 3021 / 4900) loss: 2.330612\n",
      "(Iteration 3031 / 4900) loss: 2.418335\n",
      "(Iteration 3041 / 4900) loss: 2.234840\n",
      "(Iteration 3051 / 4900) loss: 2.407902\n",
      "(Iteration 3061 / 4900) loss: 2.395134\n",
      "(Iteration 3071 / 4900) loss: 2.306525\n",
      "(Iteration 3081 / 4900) loss: 2.524705\n",
      "(Iteration 3091 / 4900) loss: 2.185498\n",
      "(Iteration 3101 / 4900) loss: 2.301812\n",
      "(Iteration 3111 / 4900) loss: 2.165977\n",
      "(Iteration 3121 / 4900) loss: 2.244497\n",
      "(Iteration 3131 / 4900) loss: 2.296492\n",
      "(Iteration 3141 / 4900) loss: 2.220814\n",
      "(Iteration 3151 / 4900) loss: 2.295940\n",
      "(Iteration 3161 / 4900) loss: 2.280634\n",
      "(Iteration 3171 / 4900) loss: 2.183295\n",
      "(Iteration 3181 / 4900) loss: 2.330428\n",
      "(Iteration 3191 / 4900) loss: 2.461897\n",
      "(Iteration 3201 / 4900) loss: 2.294031\n",
      "(Iteration 3211 / 4900) loss: 2.338569\n",
      "(Iteration 3221 / 4900) loss: 2.305200\n",
      "(Iteration 3231 / 4900) loss: 2.537823\n",
      "(Iteration 3241 / 4900) loss: 2.241056\n",
      "(Iteration 3251 / 4900) loss: 2.384619\n",
      "(Iteration 3261 / 4900) loss: 2.601130\n",
      "(Iteration 3271 / 4900) loss: 2.184021\n",
      "(Iteration 3281 / 4900) loss: 2.169669\n",
      "(Iteration 3291 / 4900) loss: 2.220991\n",
      "(Iteration 3301 / 4900) loss: 2.244934\n",
      "(Iteration 3311 / 4900) loss: 2.150495\n",
      "(Iteration 3321 / 4900) loss: 2.257644\n",
      "(Iteration 3331 / 4900) loss: 2.234128\n",
      "(Iteration 3341 / 4900) loss: 2.169707\n",
      "(Iteration 3351 / 4900) loss: 2.247137\n",
      "(Iteration 3361 / 4900) loss: 2.141126\n",
      "(Iteration 3371 / 4900) loss: 2.382574\n",
      "(Iteration 3381 / 4900) loss: 2.308541\n",
      "(Iteration 3391 / 4900) loss: 2.283988\n",
      "(Iteration 3401 / 4900) loss: 2.258869\n",
      "(Iteration 3411 / 4900) loss: 2.201102\n",
      "(Iteration 3421 / 4900) loss: 2.404880\n",
      "(Epoch 7 / 10) train acc: 0.550000; val_acc: 0.478000\n",
      "(Iteration 3431 / 4900) loss: 2.223861\n",
      "(Iteration 3441 / 4900) loss: 2.194457\n",
      "(Iteration 3451 / 4900) loss: 2.280246\n",
      "(Iteration 3461 / 4900) loss: 2.260723\n",
      "(Iteration 3471 / 4900) loss: 2.180931\n",
      "(Iteration 3481 / 4900) loss: 2.159812\n",
      "(Iteration 3491 / 4900) loss: 2.040689\n",
      "(Iteration 3501 / 4900) loss: 2.336705\n",
      "(Iteration 3511 / 4900) loss: 2.304238\n",
      "(Iteration 3521 / 4900) loss: 2.295051\n",
      "(Iteration 3531 / 4900) loss: 2.187931\n",
      "(Iteration 3541 / 4900) loss: 2.109561\n",
      "(Iteration 3551 / 4900) loss: 2.206036\n",
      "(Iteration 3561 / 4900) loss: 1.983430\n",
      "(Iteration 3571 / 4900) loss: 2.167541\n",
      "(Iteration 3581 / 4900) loss: 2.202352\n",
      "(Iteration 3591 / 4900) loss: 2.408410\n",
      "(Iteration 3601 / 4900) loss: 2.352479\n",
      "(Iteration 3611 / 4900) loss: 2.221444\n",
      "(Iteration 3621 / 4900) loss: 1.964230\n",
      "(Iteration 3631 / 4900) loss: 2.203889\n",
      "(Iteration 3641 / 4900) loss: 2.269347\n",
      "(Iteration 3651 / 4900) loss: 2.254683\n",
      "(Iteration 3661 / 4900) loss: 2.098801\n",
      "(Iteration 3671 / 4900) loss: 2.107796\n",
      "(Iteration 3681 / 4900) loss: 2.353969\n",
      "(Iteration 3691 / 4900) loss: 1.989968\n",
      "(Iteration 3701 / 4900) loss: 2.359423\n",
      "(Iteration 3711 / 4900) loss: 2.098416\n",
      "(Iteration 3721 / 4900) loss: 2.104160\n",
      "(Iteration 3731 / 4900) loss: 2.030782\n",
      "(Iteration 3741 / 4900) loss: 2.227312\n",
      "(Iteration 3751 / 4900) loss: 2.132112\n",
      "(Iteration 3761 / 4900) loss: 2.169626\n",
      "(Iteration 3771 / 4900) loss: 2.134788\n",
      "(Iteration 3781 / 4900) loss: 2.100346\n",
      "(Iteration 3791 / 4900) loss: 2.359235\n",
      "(Iteration 3801 / 4900) loss: 1.959868\n",
      "(Iteration 3811 / 4900) loss: 2.323123\n",
      "(Iteration 3821 / 4900) loss: 2.169607\n",
      "(Iteration 3831 / 4900) loss: 2.256264\n",
      "(Iteration 3841 / 4900) loss: 1.889048\n",
      "(Iteration 3851 / 4900) loss: 2.029248\n",
      "(Iteration 3861 / 4900) loss: 2.321966\n",
      "(Iteration 3871 / 4900) loss: 2.139575\n",
      "(Iteration 3881 / 4900) loss: 2.158256\n",
      "(Iteration 3891 / 4900) loss: 2.061471\n",
      "(Iteration 3901 / 4900) loss: 2.062415\n",
      "(Iteration 3911 / 4900) loss: 2.033369\n",
      "(Epoch 8 / 10) train acc: 0.570000; val_acc: 0.488000\n",
      "(Iteration 3921 / 4900) loss: 2.258625\n",
      "(Iteration 3931 / 4900) loss: 2.248640\n",
      "(Iteration 3941 / 4900) loss: 2.076849\n",
      "(Iteration 3951 / 4900) loss: 2.124890\n",
      "(Iteration 3961 / 4900) loss: 2.131351\n",
      "(Iteration 3971 / 4900) loss: 2.101888\n",
      "(Iteration 3981 / 4900) loss: 2.109111\n",
      "(Iteration 3991 / 4900) loss: 2.082179\n",
      "(Iteration 4001 / 4900) loss: 1.896112\n",
      "(Iteration 4011 / 4900) loss: 2.031209\n",
      "(Iteration 4021 / 4900) loss: 2.222209\n",
      "(Iteration 4031 / 4900) loss: 2.082393\n",
      "(Iteration 4041 / 4900) loss: 2.101485\n",
      "(Iteration 4051 / 4900) loss: 1.997546\n",
      "(Iteration 4061 / 4900) loss: 2.137228\n",
      "(Iteration 4071 / 4900) loss: 1.917537\n",
      "(Iteration 4081 / 4900) loss: 2.000088\n",
      "(Iteration 4091 / 4900) loss: 1.959726\n",
      "(Iteration 4101 / 4900) loss: 2.072352\n",
      "(Iteration 4111 / 4900) loss: 2.125216\n",
      "(Iteration 4121 / 4900) loss: 2.053918\n",
      "(Iteration 4131 / 4900) loss: 1.998403\n",
      "(Iteration 4141 / 4900) loss: 2.059840\n",
      "(Iteration 4151 / 4900) loss: 1.968742\n",
      "(Iteration 4161 / 4900) loss: 1.870499\n",
      "(Iteration 4171 / 4900) loss: 2.003403\n",
      "(Iteration 4181 / 4900) loss: 1.953594\n",
      "(Iteration 4191 / 4900) loss: 2.249081\n",
      "(Iteration 4201 / 4900) loss: 2.041706\n",
      "(Iteration 4211 / 4900) loss: 1.993013\n",
      "(Iteration 4221 / 4900) loss: 1.986797\n",
      "(Iteration 4231 / 4900) loss: 2.233141\n",
      "(Iteration 4241 / 4900) loss: 2.190007\n",
      "(Iteration 4251 / 4900) loss: 2.249040\n",
      "(Iteration 4261 / 4900) loss: 2.153654\n",
      "(Iteration 4271 / 4900) loss: 2.062290\n",
      "(Iteration 4281 / 4900) loss: 1.932722\n",
      "(Iteration 4291 / 4900) loss: 2.092318\n",
      "(Iteration 4301 / 4900) loss: 1.970781\n",
      "(Iteration 4311 / 4900) loss: 1.985692\n",
      "(Iteration 4321 / 4900) loss: 2.017878\n",
      "(Iteration 4331 / 4900) loss: 2.062832\n",
      "(Iteration 4341 / 4900) loss: 2.256289\n",
      "(Iteration 4351 / 4900) loss: 2.122672\n",
      "(Iteration 4361 / 4900) loss: 1.976130\n",
      "(Iteration 4371 / 4900) loss: 2.058895\n",
      "(Iteration 4381 / 4900) loss: 1.838289\n",
      "(Iteration 4391 / 4900) loss: 2.028865\n",
      "(Iteration 4401 / 4900) loss: 2.136599\n",
      "(Epoch 9 / 10) train acc: 0.547000; val_acc: 0.492000\n",
      "(Iteration 4411 / 4900) loss: 1.820368\n",
      "(Iteration 4421 / 4900) loss: 1.968364\n",
      "(Iteration 4431 / 4900) loss: 2.098846\n",
      "(Iteration 4441 / 4900) loss: 2.195923\n",
      "(Iteration 4451 / 4900) loss: 1.959909\n",
      "(Iteration 4461 / 4900) loss: 1.770237\n",
      "(Iteration 4471 / 4900) loss: 2.280106\n",
      "(Iteration 4481 / 4900) loss: 2.216761\n",
      "(Iteration 4491 / 4900) loss: 1.887306\n",
      "(Iteration 4501 / 4900) loss: 1.979241\n",
      "(Iteration 4511 / 4900) loss: 1.788839\n",
      "(Iteration 4521 / 4900) loss: 2.050079\n",
      "(Iteration 4531 / 4900) loss: 2.066362\n",
      "(Iteration 4541 / 4900) loss: 1.923945\n",
      "(Iteration 4551 / 4900) loss: 2.320287\n",
      "(Iteration 4561 / 4900) loss: 2.182236\n",
      "(Iteration 4571 / 4900) loss: 2.026042\n",
      "(Iteration 4581 / 4900) loss: 1.759502\n",
      "(Iteration 4591 / 4900) loss: 1.963270\n",
      "(Iteration 4601 / 4900) loss: 1.957866\n",
      "(Iteration 4611 / 4900) loss: 2.093416\n",
      "(Iteration 4621 / 4900) loss: 2.115330\n",
      "(Iteration 4631 / 4900) loss: 2.143235\n",
      "(Iteration 4641 / 4900) loss: 1.875358\n",
      "(Iteration 4651 / 4900) loss: 1.912376\n",
      "(Iteration 4661 / 4900) loss: 1.983906\n",
      "(Iteration 4671 / 4900) loss: 2.086723\n",
      "(Iteration 4681 / 4900) loss: 1.940277\n",
      "(Iteration 4691 / 4900) loss: 2.177659\n",
      "(Iteration 4701 / 4900) loss: 2.155128\n",
      "(Iteration 4711 / 4900) loss: 1.996067\n",
      "(Iteration 4721 / 4900) loss: 1.876639\n",
      "(Iteration 4731 / 4900) loss: 1.888852\n",
      "(Iteration 4741 / 4900) loss: 2.035580\n",
      "(Iteration 4751 / 4900) loss: 2.158331\n",
      "(Iteration 4761 / 4900) loss: 1.788950\n",
      "(Iteration 4771 / 4900) loss: 2.016878\n",
      "(Iteration 4781 / 4900) loss: 1.983883\n",
      "(Iteration 4791 / 4900) loss: 2.028327\n",
      "(Iteration 4801 / 4900) loss: 1.824358\n",
      "(Iteration 4811 / 4900) loss: 2.008203\n",
      "(Iteration 4821 / 4900) loss: 1.969031\n",
      "(Iteration 4831 / 4900) loss: 1.860534\n",
      "(Iteration 4841 / 4900) loss: 1.791178\n",
      "(Iteration 4851 / 4900) loss: 2.204102\n",
      "(Iteration 4861 / 4900) loss: 2.100808\n",
      "(Iteration 4871 / 4900) loss: 2.102059\n",
      "(Iteration 4881 / 4900) loss: 1.927177\n",
      "(Iteration 4891 / 4900) loss: 1.720598\n",
      "(Epoch 10 / 10) train acc: 0.583000; val_acc: 0.494000\n"
     ]
    }
   ],
   "source": [
    "model = TwoLayerNet(reg = 0.15)\n",
    "config = {'learning_rate':9e-4}\n",
    "solver = Solver(model, data, update_rule = 'sgd', optim_config = config)\n",
    "\n",
    "##############################################################################\n",
    "# TODO: Use a Solver instance to train a TwoLayerNet that achieves at least  #\n",
    "# 50% accuracy on the validation set.                                        #\n",
    "##############################################################################\n",
    "solver.train()\n",
    "# solver.check_accuracy(data['X_val'], data['y_val'])\n",
    "##############################################################################\n",
    "#                             END OF YOUR CODE                               #\n",
    "##############################################################################"
   ]
  },
  {
   "cell_type": "code",
   "execution_count": 132,
   "metadata": {
    "collapsed": false
   },
   "outputs": [
    {
     "data": {
      "image/png": "[encoded data removed]",
      "text/plain": [
       "<matplotlib.figure.Figure at 0x1b084f28>"
      ]
     },
     "metadata": {},
     "output_type": "display_data"
    },
    {
     "data": {
      "text/plain": [
       "0.49399999999999999"
      ]
     },
     "execution_count": 132,
     "metadata": {},
     "output_type": "execute_result"
    }
   ],
   "source": [
    "# Run this cell to visualize training loss and train / val accuracy\n",
    "\n",
    "plt.subplot(2, 1, 1)\n",
    "plt.title('Training loss')\n",
    "plt.plot(solver.loss_history, 'o')\n",
    "plt.xlabel('Iteration')\n",
    "\n",
    "plt.subplot(2, 1, 2)\n",
    "plt.title('Accuracy')\n",
    "plt.plot(solver.train_acc_history, '-o', label='train')\n",
    "plt.plot(solver.val_acc_history, '-o', label='val')\n",
    "plt.plot([0.5] * len(solver.val_acc_history), 'k--')\n",
    "plt.xlabel('Epoch')\n",
    "plt.legend(loc='lower right')\n",
    "plt.gcf().set_size_inches(15, 12)\n",
    "plt.show()\n",
    "\n",
    "solver.check_accuracy(data['X_val'], data['y_val'])"
   ]
  },
  {
   "cell_type": "markdown",
   "metadata": {},
   "source": [
    "# Multilayer network\n",
    "Next you will implement a fully-connected network with an arbitrary number of hidden layers.\n",
    "\n",
    "Read through the `FullyConnectedNet` class in the file `cs231n/classifiers/fc_net.py`.\n",
    "\n",
    "Implement the initialization, the forward pass, and the backward pass. For the moment don't worry about implementing dropout or batch normalization; we will add those features soon."
   ]
  },
  {
   "cell_type": "markdown",
   "metadata": {},
   "source": [
    "## Initial loss and gradient check"
   ]
  },
  {
   "cell_type": "markdown",
   "metadata": {},
   "source": [
    "As a sanity check, run the following to check the initial loss and to gradient check the network both with and without regularization. Do the initial losses seem reasonable?\n",
    "\n",
    "For gradient checking, you should expect to see errors around 1e-6 or less."
   ]
  },
  {
   "cell_type": "code",
   "execution_count": 245,
   "metadata": {
    "collapsed": false
   },
   "outputs": [
    {
     "name": "stdout",
     "output_type": "stream",
     "text": [
      "Running check with reg =  0\n",
      "Initial loss:  2.30258474715\n",
      "W1 relative error: 5.42e-05\n",
      "W2 relative error: 7.24e-05\n",
      "W3 relative error: 1.91e-03\n",
      "W4 relative error: 7.02e-05\n",
      "b1 relative error: 3.15e-06\n",
      "b2 relative error: 1.41e-01\n",
      "b3 relative error: 1.00e+00\n",
      "b4 relative error: 2.44e-10\n",
      "Running check with reg =  3.14\n",
      "Initial loss:  2.76527198443\n",
      "W1 relative error: 1.37e-07\n",
      "W2 relative error: 5.60e-08\n",
      "W3 relative error: 7.89e-07\n",
      "W4 relative error: 3.83e-08\n",
      "b1 relative error: 6.50e-06\n",
      "b2 relative error: 2.92e-01\n",
      "b3 relative error: 1.00e+00\n",
      "b4 relative error: 9.37e-11\n"
     ]
    }
   ],
   "source": [
    "N, D, H1, H2, H3, C = 2, 15, 20, 30, 50, 10\n",
    "X = np.random.randn(N, D)\n",
    "y = np.random.randint(C, size=(N,))\n",
    "\n",
    "for reg in [0, 3.14]:\n",
    "  print 'Running check with reg = ', reg\n",
    "  model = FullyConnectedNet([H1, H2, H3], input_dim=D, num_classes=C,\n",
    "                            reg=reg, weight_scale=5e-2, dtype=np.float64)\n",
    "\n",
    "  loss, grads = model.loss(X, y)\n",
    "  print 'Initial loss: ', loss\n",
    "\n",
    "  for name in sorted(grads):\n",
    "    f = lambda _: model.loss(X, y)[0]\n",
    "    grad_num = eval_numerical_gradient(f, model.params[name], verbose=False, h=1e-5)\n",
    "    print '%s relative error: %.2e' % (name, rel_error(grad_num, grads[name]))"
   ]
  },
  {
   "cell_type": "markdown",
   "metadata": {},
   "source": [
    "As another sanity check, make sure you can overfit a small dataset of 50 images. First we will try a three-layer network with 100 units in each hidden layer. You will need to tweak the learning rate and initialization scale, but you should be able to overfit and achieve 100% training accuracy within 20 epochs."
   ]
  },
  {
   "cell_type": "code",
   "execution_count": 264,
   "metadata": {
    "collapsed": false,
    "scrolled": false
   },
   "outputs": [
    {
     "name": "stdout",
     "output_type": "stream",
     "text": [
      "(Iteration 1 / 40) loss: 2.309239\n",
      "(Epoch 0 / 20) train acc: 0.280000; val_acc: 0.143000\n",
      "(Epoch 1 / 20) train acc: 0.280000; val_acc: 0.149000\n",
      "(Epoch 2 / 20) train acc: 0.420000; val_acc: 0.152000\n",
      "(Epoch 3 / 20) train acc: 0.400000; val_acc: 0.135000\n",
      "(Epoch 4 / 20) train acc: 0.500000; val_acc: 0.171000\n",
      "(Epoch 5 / 20) train acc: 0.500000; val_acc: 0.145000\n",
      "(Iteration 11 / 40) loss: 1.743489\n",
      "(Epoch 6 / 20) train acc: 0.540000; val_acc: 0.166000\n",
      "(Epoch 7 / 20) train acc: 0.540000; val_acc: 0.167000\n",
      "(Epoch 8 / 20) train acc: 0.440000; val_acc: 0.169000\n",
      "(Epoch 9 / 20) train acc: 0.680000; val_acc: 0.202000\n",
      "(Epoch 10 / 20) train acc: 0.680000; val_acc: 0.181000\n",
      "(Iteration 21 / 40) loss: 1.210045\n",
      "(Epoch 11 / 20) train acc: 0.720000; val_acc: 0.172000\n",
      "(Epoch 12 / 20) train acc: 0.860000; val_acc: 0.183000\n",
      "(Epoch 13 / 20) train acc: 0.840000; val_acc: 0.179000\n",
      "(Epoch 14 / 20) train acc: 0.920000; val_acc: 0.191000\n",
      "(Epoch 15 / 20) train acc: 0.900000; val_acc: 0.179000\n",
      "(Iteration 31 / 40) loss: 0.440253\n",
      "(Epoch 16 / 20) train acc: 0.960000; val_acc: 0.202000\n",
      "(Epoch 17 / 20) train acc: 0.960000; val_acc: 0.187000\n",
      "(Epoch 18 / 20) train acc: 0.940000; val_acc: 0.199000\n",
      "(Epoch 19 / 20) train acc: 1.000000; val_acc: 0.180000\n",
      "(Epoch 20 / 20) train acc: 1.000000; val_acc: 0.194000\n"
     ]
    },
    {
     "data": {
      "image/png": "[encoded data removed]",
      "text/plain": [
       "<matplotlib.figure.Figure at 0x1afa75c0>"
      ]
     },
     "metadata": {},
     "output_type": "display_data"
    }
   ],
   "source": [
    "# TODO: Use a three-layer Net to overfit 50 training examples.\n",
    "\n",
    "num_train = 50\n",
    "small_data = {\n",
    "  'X_train': data['X_train'][:num_train],\n",
    "  'y_train': data['y_train'][:num_train],\n",
    "  'X_val': data['X_val'],\n",
    "  'y_val': data['y_val'],\n",
    "}\n",
    "\n",
    "weight_scale = 8e-3\n",
    "learning_rate = 7.0e-3\n",
    "model = FullyConnectedNet([100, 100],\n",
    "              weight_scale=weight_scale, dtype=np.float64)\n",
    "solver = Solver(model, small_data,\n",
    "                print_every=10, num_epochs=20, batch_size=25,\n",
    "                update_rule='sgd',\n",
    "                optim_config={\n",
    "                  'learning_rate': learning_rate,\n",
    "                }\n",
    "         )\n",
    "solver.train()\n",
    "\n",
    "plt.plot(solver.loss_history, 'o')\n",
    "plt.title('Training loss history')\n",
    "plt.xlabel('Iteration')\n",
    "plt.ylabel('Training loss')\n",
    "plt.show()"
   ]
  },
  {
   "cell_type": "markdown",
   "metadata": {},
   "source": [
    "Now try to use a five-layer network with 100 units on each layer to overfit 50 training examples. Again you will have to adjust the learning rate and weight initialization, but you should be able to achieve 100% training accuracy within 20 epochs."
   ]
  },
  {
   "cell_type": "code",
   "execution_count": 266,
   "metadata": {
    "collapsed": false
   },
   "outputs": [
    {
     "name": "stdout",
     "output_type": "stream",
     "text": [
      "(Iteration 1 / 40) loss: 6.822356\n",
      "(Epoch 0 / 20) train acc: 0.100000; val_acc: 0.093000\n",
      "(Epoch 1 / 20) train acc: 0.240000; val_acc: 0.099000\n",
      "(Epoch 2 / 20) train acc: 0.400000; val_acc: 0.122000\n",
      "(Epoch 3 / 20) train acc: 0.600000; val_acc: 0.130000\n",
      "(Epoch 4 / 20) train acc: 0.680000; val_acc: 0.132000\n",
      "(Epoch 5 / 20) train acc: 0.800000; val_acc: 0.145000\n",
      "(Iteration 11 / 40) loss: 0.803963\n",
      "(Epoch 6 / 20) train acc: 0.840000; val_acc: 0.148000\n",
      "(Epoch 7 / 20) train acc: 0.920000; val_acc: 0.141000\n",
      "(Epoch 8 / 20) train acc: 0.900000; val_acc: 0.132000\n",
      "(Epoch 9 / 20) train acc: 0.940000; val_acc: 0.147000\n",
      "(Epoch 10 / 20) train acc: 0.960000; val_acc: 0.153000\n",
      "(Iteration 21 / 40) loss: 0.310300\n",
      "(Epoch 11 / 20) train acc: 0.980000; val_acc: 0.131000\n",
      "(Epoch 12 / 20) train acc: 0.980000; val_acc: 0.130000\n",
      "(Epoch 13 / 20) train acc: 1.000000; val_acc: 0.145000\n",
      "(Epoch 14 / 20) train acc: 0.980000; val_acc: 0.141000\n",
      "(Epoch 15 / 20) train acc: 1.000000; val_acc: 0.137000\n",
      "(Iteration 31 / 40) loss: 0.147007\n",
      "(Epoch 16 / 20) train acc: 1.000000; val_acc: 0.150000\n",
      "(Epoch 17 / 20) train acc: 1.000000; val_acc: 0.140000\n",
      "(Epoch 18 / 20) train acc: 1.000000; val_acc: 0.148000\n",
      "(Epoch 19 / 20) train acc: 1.000000; val_acc: 0.139000\n",
      "(Epoch 20 / 20) train acc: 1.000000; val_acc: 0.135000\n"
     ]
    },
    {
     "data": {
      "image/png": "[encoded data removed]",
      "text/plain": [
       "<matplotlib.figure.Figure at 0x20459eb8>"
      ]
     },
     "metadata": {},
     "output_type": "display_data"
    }
   ],
   "source": [
    "# TODO: Use a five-layer Net to overfit 50 training examples.\n",
    "\n",
    "num_train = 50\n",
    "small_data = {\n",
    "  'X_train': data['X_train'][:num_train],\n",
    "  'y_train': data['y_train'][:num_train],\n",
    "  'X_val': data['X_val'],\n",
    "  'y_val': data['y_val'],\n",
    "}\n",
    "\n",
    "learning_rate = 4e-3\n",
    "weight_scale = 50e-3\n",
    "model = FullyConnectedNet([100, 100, 100, 100],\n",
    "                weight_scale=weight_scale, dtype=np.float64)\n",
    "solver = Solver(model, small_data,\n",
    "                print_every=10, num_epochs=20, batch_size=25,\n",
    "                update_rule='sgd',\n",
    "                optim_config={\n",
    "                  'learning_rate': learning_rate,\n",
    "                }\n",
    "         )\n",
    "solver.train()\n",
    "\n",
    "plt.plot(solver.loss_history, 'o')\n",
    "plt.title('Training loss history')\n",
    "plt.xlabel('Iteration')\n",
    "plt.ylabel('Training loss')\n",
    "plt.show()"
   ]
  },
  {
   "cell_type": "markdown",
   "metadata": {},
   "source": [
    "# Inline question: \n",
    "Did you notice anything about the comparative difficulty of training the three-layer net vs training the five layer net?\n",
    "\n",
    "# Answer:\n",
    "***It's actually much easier for the five layer neural network to overfit. With a larger weight scale it can easily get 100% training error in 5 epochs.***\n"
   ]
  },
  {
   "cell_type": "markdown",
   "metadata": {},
   "source": [
    "# Update rules\n",
    "So far we have used vanilla stochastic gradient descent (SGD) as our update rule. More sophisticated update rules can make it easier to train deep networks. We will implement a few of the most commonly used update rules and compare them to vanilla SGD."
   ]
  },
  {
   "cell_type": "markdown",
   "metadata": {},
   "source": [
    "# SGD+Momentum\n",
    "Stochastic gradient descent with momentum is a widely used update rule that tends to make deep networks converge faster than vanilla stochstic gradient descent.\n",
    "\n",
    "Open the file `cs231n/optim.py` and read the documentation at the top of the file to make sure you understand the API. Implement the SGD+momentum update rule in the function `sgd_momentum` and run the following to check your implementation. You should see errors less than 1e-8."
   ]
  },
  {
   "cell_type": "code",
   "execution_count": null,
   "metadata": {
    "collapsed": false
   },
   "outputs": [],
   "source": [
    "from cs231n.optim import sgd_momentum\n",
    "\n",
    "N, D = 4, 5\n",
    "w = np.linspace(-0.4, 0.6, num=N*D).reshape(N, D)\n",
    "dw = np.linspace(-0.6, 0.4, num=N*D).reshape(N, D)\n",
    "v = np.linspace(0.6, 0.9, num=N*D).reshape(N, D)\n",
    "\n",
    "config = {'learning_rate': 1e-3, 'velocity': v}\n",
    "next_w, _ = sgd_momentum(w, dw, config=config)\n",
    "\n",
    "expected_next_w = np.asarray([\n",
    "  [ 0.1406,      0.20738947,  0.27417895,  0.34096842,  0.40775789],\n",
    "  [ 0.47454737,  0.54133684,  0.60812632,  0.67491579,  0.74170526],\n",
    "  [ 0.80849474,  0.87528421,  0.94207368,  1.00886316,  1.07565263],\n",
    "  [ 1.14244211,  1.20923158,  1.27602105,  1.34281053,  1.4096    ]])\n",
    "expected_velocity = np.asarray([\n",
    "  [ 0.5406,      0.55475789,  0.56891579, 0.58307368,  0.59723158],\n",
    "  [ 0.61138947,  0.62554737,  0.63970526,  0.65386316,  0.66802105],\n",
    "  [ 0.68217895,  0.69633684,  0.71049474,  0.72465263,  0.73881053],\n",
    "  [ 0.75296842,  0.76712632,  0.78128421,  0.79544211,  0.8096    ]])\n",
    "\n",
    "print 'next_w error: ', rel_error(next_w, expected_next_w)\n",
    "print 'velocity error: ', rel_error(expected_velocity, config['velocity'])"
   ]
  },
  {
   "cell_type": "markdown",
   "metadata": {},
   "source": [
    "Once you have done so, run the following to train a six-layer network with both SGD and SGD+momentum. You should see the SGD+momentum update rule converge faster."
   ]
  },
  {
   "cell_type": "code",
   "execution_count": null,
   "metadata": {
    "collapsed": false,
    "scrolled": false
   },
   "outputs": [],
   "source": [
    "num_train = 4000\n",
    "small_data = {\n",
    "  'X_train': data['X_train'][:num_train],\n",
    "  'y_train': data['y_train'][:num_train],\n",
    "  'X_val': data['X_val'],\n",
    "  'y_val': data['y_val'],\n",
    "}\n",
    "\n",
    "solvers = {}\n",
    "\n",
    "for update_rule in ['sgd', 'sgd_momentum']:\n",
    "  print 'running with ', update_rule\n",
    "  model = FullyConnectedNet([100, 100, 100, 100, 100], weight_scale=5e-2)\n",
    "\n",
    "  solver = Solver(model, small_data,\n",
    "                  num_epochs=5, batch_size=100,\n",
    "                  update_rule=update_rule,\n",
    "                  optim_config={\n",
    "                    'learning_rate': 1e-2,\n",
    "                  },\n",
    "                  verbose=True)\n",
    "  solvers[update_rule] = solver\n",
    "  solver.train()\n",
    "  print\n",
    "\n",
    "plt.subplot(3, 1, 1)\n",
    "plt.title('Training loss')\n",
    "plt.xlabel('Iteration')\n",
    "\n",
    "plt.subplot(3, 1, 2)\n",
    "plt.title('Training accuracy')\n",
    "plt.xlabel('Epoch')\n",
    "\n",
    "plt.subplot(3, 1, 3)\n",
    "plt.title('Validation accuracy')\n",
    "plt.xlabel('Epoch')\n",
    "\n",
    "for update_rule, solver in solvers.iteritems():\n",
    "  plt.subplot(3, 1, 1)\n",
    "  plt.plot(solver.loss_history, 'o', label=update_rule)\n",
    "  \n",
    "  plt.subplot(3, 1, 2)\n",
    "  plt.plot(solver.train_acc_history, '-o', label=update_rule)\n",
    "\n",
    "  plt.subplot(3, 1, 3)\n",
    "  plt.plot(solver.val_acc_history, '-o', label=update_rule)\n",
    "  \n",
    "for i in [1, 2, 3]:\n",
    "  plt.subplot(3, 1, i)\n",
    "  plt.legend(loc='upper center', ncol=4)\n",
    "plt.gcf().set_size_inches(15, 15)\n",
    "plt.show()"
   ]
  },
  {
   "cell_type": "markdown",
   "metadata": {},
   "source": [
    "# RMSProp and Adam\n",
    "RMSProp [1] and Adam [2] are update rules that set per-parameter learning rates by using a running average of the second moments of gradients.\n",
    "\n",
    "In the file `cs231n/optim.py`, implement the RMSProp update rule in the `rmsprop` function and implement the Adam update rule in the `adam` function, and check your implementations using the tests below.\n",
    "\n",
    "[1] Tijmen Tieleman and Geoffrey Hinton. \"Lecture 6.5-rmsprop: Divide the gradient by a running average of its recent magnitude.\" COURSERA: Neural Networks for Machine Learning 4 (2012).\n",
    "\n",
    "[2] Diederik Kingma and Jimmy Ba, \"Adam: A Method for Stochastic Optimization\", ICLR 2015."
   ]
  },
  {
   "cell_type": "code",
   "execution_count": null,
   "metadata": {
    "collapsed": false
   },
   "outputs": [],
   "source": [
    "# Test RMSProp implementation; you should see errors less than 1e-7\n",
    "from cs231n.optim import rmsprop\n",
    "\n",
    "N, D = 4, 5\n",
    "w = np.linspace(-0.4, 0.6, num=N*D).reshape(N, D)\n",
    "dw = np.linspace(-0.6, 0.4, num=N*D).reshape(N, D)\n",
    "cache = np.linspace(0.6, 0.9, num=N*D).reshape(N, D)\n",
    "\n",
    "config = {'learning_rate': 1e-2, 'cache': cache}\n",
    "next_w, _ = rmsprop(w, dw, config=config)\n",
    "\n",
    "expected_next_w = np.asarray([\n",
    "  [-0.39223849, -0.34037513, -0.28849239, -0.23659121, -0.18467247],\n",
    "  [-0.132737,   -0.08078555, -0.02881884,  0.02316247,  0.07515774],\n",
    "  [ 0.12716641,  0.17918792,  0.23122175,  0.28326742,  0.33532447],\n",
    "  [ 0.38739248,  0.43947102,  0.49155973,  0.54365823,  0.59576619]])\n",
    "expected_cache = np.asarray([\n",
    "  [ 0.5976,      0.6126277,   0.6277108,   0.64284931,  0.65804321],\n",
    "  [ 0.67329252,  0.68859723,  0.70395734,  0.71937285,  0.73484377],\n",
    "  [ 0.75037008,  0.7659518,   0.78158892,  0.79728144,  0.81302936],\n",
    "  [ 0.82883269,  0.84469141,  0.86060554,  0.87657507,  0.8926    ]])\n",
    "\n",
    "print 'next_w error: ', rel_error(expected_next_w, next_w)\n",
    "print 'cache error: ', rel_error(expected_cache, config['cache'])"
   ]
  },
  {
   "cell_type": "code",
   "execution_count": null,
   "metadata": {
    "collapsed": false
   },
   "outputs": [],
   "source": [
    "# Test Adam implementation; you should see errors around 1e-7 or less\n",
    "from cs231n.optim import adam\n",
    "\n",
    "N, D = 4, 5\n",
    "w = np.linspace(-0.4, 0.6, num=N*D).reshape(N, D)\n",
    "dw = np.linspace(-0.6, 0.4, num=N*D).reshape(N, D)\n",
    "m = np.linspace(0.6, 0.9, num=N*D).reshape(N, D)\n",
    "v = np.linspace(0.7, 0.5, num=N*D).reshape(N, D)\n",
    "\n",
    "config = {'learning_rate': 1e-2, 'm': m, 'v': v, 't': 5}\n",
    "next_w, _ = adam(w, dw, config=config)\n",
    "\n",
    "expected_next_w = np.asarray([\n",
    "  [-0.40094747, -0.34836187, -0.29577703, -0.24319299, -0.19060977],\n",
    "  [-0.1380274,  -0.08544591, -0.03286534,  0.01971428,  0.0722929],\n",
    "  [ 0.1248705,   0.17744702,  0.23002243,  0.28259667,  0.33516969],\n",
    "  [ 0.38774145,  0.44031188,  0.49288093,  0.54544852,  0.59801459]])\n",
    "expected_v = np.asarray([\n",
    "  [ 0.69966,     0.68908382,  0.67851319,  0.66794809,  0.65738853,],\n",
    "  [ 0.64683452,  0.63628604,  0.6257431,   0.61520571,  0.60467385,],\n",
    "  [ 0.59414753,  0.58362676,  0.57311152,  0.56260183,  0.55209767,],\n",
    "  [ 0.54159906,  0.53110598,  0.52061845,  0.51013645,  0.49966,   ]])\n",
    "expected_m = np.asarray([\n",
    "  [ 0.48,        0.49947368,  0.51894737,  0.53842105,  0.55789474],\n",
    "  [ 0.57736842,  0.59684211,  0.61631579,  0.63578947,  0.65526316],\n",
    "  [ 0.67473684,  0.69421053,  0.71368421,  0.73315789,  0.75263158],\n",
    "  [ 0.77210526,  0.79157895,  0.81105263,  0.83052632,  0.85      ]])\n",
    "\n",
    "print 'next_w error: ', rel_error(expected_next_w, next_w)\n",
    "print 'v error: ', rel_error(expected_v, config['v'])\n",
    "print 'm error: ', rel_error(expected_m, config['m'])"
   ]
  },
  {
   "cell_type": "markdown",
   "metadata": {},
   "source": [
    "Once you have debugged your RMSProp and Adam implementations, run the following to train a pair of deep networks using these new update rules:"
   ]
  },
  {
   "cell_type": "code",
   "execution_count": null,
   "metadata": {
    "collapsed": false
   },
   "outputs": [],
   "source": [
    "learning_rates = {'rmsprop': 1e-4, 'adam': 1e-3}\n",
    "for update_rule in ['adam', 'rmsprop']:\n",
    "  print 'running with ', update_rule\n",
    "  model = FullyConnectedNet([100, 100, 100, 100, 100], weight_scale=5e-2)\n",
    "\n",
    "  solver = Solver(model, small_data,\n",
    "                  num_epochs=5, batch_size=100,\n",
    "                  update_rule=update_rule,\n",
    "                  optim_config={\n",
    "                    'learning_rate': learning_rates[update_rule]\n",
    "                  },\n",
    "                  verbose=True)\n",
    "  solvers[update_rule] = solver\n",
    "  solver.train()\n",
    "  print\n",
    "\n",
    "plt.subplot(3, 1, 1)\n",
    "plt.title('Training loss')\n",
    "plt.xlabel('Iteration')\n",
    "\n",
    "plt.subplot(3, 1, 2)\n",
    "plt.title('Training accuracy')\n",
    "plt.xlabel('Epoch')\n",
    "\n",
    "plt.subplot(3, 1, 3)\n",
    "plt.title('Validation accuracy')\n",
    "plt.xlabel('Epoch')\n",
    "\n",
    "for update_rule, solver in solvers.iteritems():\n",
    "  plt.subplot(3, 1, 1)\n",
    "  plt.plot(solver.loss_history, 'o', label=update_rule)\n",
    "  \n",
    "  plt.subplot(3, 1, 2)\n",
    "  plt.plot(solver.train_acc_history, '-o', label=update_rule)\n",
    "\n",
    "  plt.subplot(3, 1, 3)\n",
    "  plt.plot(solver.val_acc_history, '-o', label=update_rule)\n",
    "  \n",
    "for i in [1, 2, 3]:\n",
    "  plt.subplot(3, 1, i)\n",
    "  plt.legend(loc='upper center', ncol=4)\n",
    "plt.gcf().set_size_inches(15, 15)\n",
    "plt.show()"
   ]
  },
  {
   "cell_type": "markdown",
   "metadata": {},
   "source": [
    "# Train a good model!\n",
    "Train the best fully-connected model that you can on CIFAR-10, storing your best model in the `best_model` variable. We require you to get at least 50% accuracy on the validation set using a fully-connected net.\n",
    "\n",
    "If you are careful it should be possible to get accuracies above 55%, but we don't require it for this part and won't assign extra credit for doing so. Later in the assignment we will ask you to train the best convolutional network that you can on CIFAR-10, and we would prefer that you spend your effort working on convolutional nets rather than fully-connected nets.\n",
    "\n",
    "You might find it useful to complete the `BatchNormalization.ipynb` and `Dropout.ipynb` notebooks before completing this part, since those techniques can help you train powerful models."
   ]
  },
  {
   "cell_type": "code",
   "execution_count": null,
   "metadata": {
    "collapsed": false,
    "scrolled": false
   },
   "outputs": [],
   "source": [
    "best_model = None\n",
    "################################################################################\n",
    "# TODO: Train the best FullyConnectedNet that you can on CIFAR-10. You might   #\n",
    "# batch normalization and dropout useful. Store your best model in the         #\n",
    "# best_model variable.                                                         #\n",
    "################################################################################\n",
    "pass\n",
    "################################################################################\n",
    "#                              END OF YOUR CODE                                #\n",
    "################################################################################"
   ]
  },
  {
   "cell_type": "markdown",
   "metadata": {},
   "source": [
    "# Test you model\n",
    "Run your best model on the validation and test sets. You should achieve above 50% accuracy on the validation set."
   ]
  },
  {
   "cell_type": "code",
   "execution_count": null,
   "metadata": {
    "collapsed": false
   },
   "outputs": [],
   "source": [
    "y_test_pred = np.argmax(best_model.loss(X_test), axis=1)\n",
    "y_val_pred = np.argmax(best_model.loss(X_val), axis=1)\n",
    "print 'Validation set accuracy: ', (y_val_pred == y_val).mean()\n",
    "print 'Test set accuracy: ', (y_test_pred == y_test).mean()"
   ]
  }
 ],
 "metadata": {
  "kernelspec": {
   "display_name": "Python 2",
   "language": "python",
   "name": "python2"
  },
  "language_info": {
   "codemirror_mode": {
    "name": "ipython",
    "version": 2
   },
   "file_extension": ".py",
   "mimetype": "text/x-python",
   "name": "python",
   "nbconvert_exporter": "python",
   "pygments_lexer": "ipython2",
   "version": "2.7.11"
  }
 },
 "nbformat": 4,
 "nbformat_minor": 0
}
